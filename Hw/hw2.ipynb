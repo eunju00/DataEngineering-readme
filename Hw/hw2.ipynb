{
 "cells": [
  {
   "cell_type": "code",
   "execution_count": 65,
   "id": "de6dd004-d520-4214-8abf-e71cd69d06ca",
   "metadata": {},
   "outputs": [
    {
     "name": "stdout",
     "output_type": "stream",
     "text": [
      "[['politics', 80], ['latin', 96], ['dance', 97], ['architecture', 65], ['physics', 98], ['calculus', 97], ['poetry', 'Pass'], ['history', 88], ['computer science', 100], ['visual arts', 98]]\n"
     ]
    }
   ],
   "source": [
    "subjects = ['physics', 'calculus', 'poetry', 'history']\n",
    "\n",
    "grades = [98, 97, 85, 88]\n",
    "gradebook = [[subjects[0], grades[0]], [subjects[1], grades[1]], [subjects[2], grades[2]], [subjects[3], grades[3]]]\n",
    "\n",
    "gradebook.append(['computer science', 100])\n",
    "gradebook.append(['visual arts', 93])\n",
    "\n",
    "gradebook[5][1] += 5\n",
    "\n",
    "gradebook[2].remove(85)\n",
    "gradebook[2].append(\"Pass\")\n",
    "\n",
    "last_semester_gradebook = [[\"politics\", 80], [\"latin\", 96], [\"dance\", 97], [\"architecture\", 65]]\n",
    "full_gradebook = last_semester_gradebook + gradebook\n",
    "print(full_gradebook)"
   ]
  },
  {
   "cell_type": "code",
   "execution_count": 2,
   "id": "32cd9766-613c-4e95-a8e7-4460c7ce7b99",
   "metadata": {},
   "outputs": [
    {
     "name": "stdout",
     "output_type": "stream",
     "text": [
      "[['physics', 98], ['calculus', 97], ['poetry', 85], ['history', 88]]\n",
      "[['physics', 98], ['calculus', 97], ['poetry', 85], ['history', 88], ['computer sciene', 100], ['visual arts', 93]]\n",
      "[['physics', 98], ['calculus', 97], ['poetry', 'Pass'], ['history', 88], ['computer sciene', 100], ['visual arts', 98]]\n",
      "[['politics', 80], ['latin', 96], ['dance', 97], ['architecture', 65], ['physics', 98], ['calculus', 97], ['poetry', 'Pass'], ['history', 88], ['computer sciene', 100], ['visual arts', 98]]\n"
     ]
    }
   ],
   "source": [
    "subjects=[\"physics\",\"calulus\",\"poetry\",\"history\"]\n",
    "grades = [98,97,85,88]\n",
    "gradebook = [['physics', 98], ['calculus', 97], ['poetry', 85], ['history', 88]]\n",
    "print(gradebook)\n",
    "\n",
    "gradebook.append(['computer sciene',100])\n",
    "gradebook.append(['visual arts',93])\n",
    "print(gradebook)\n",
    "\n",
    "gradebook[5] = ['visual arts', 98]\n",
    "gradebook[2].remove(85)\n",
    "gradebook[2].append('Pass')\n",
    "print(gradebook)\n",
    "\n",
    "last_semester_gradebook = [[\"politics\", 80], [\"latin\", 96], [\"dance\", 97], [\"architecture\", 65]]\n",
    "full_gradebook = last_semester_gradebook + gradebook\n",
    "print(full_gradebook)\n",
    "\n"
   ]
  },
  {
   "cell_type": "code",
   "execution_count": null,
   "id": "b51caa28-63f9-4c52-ab5c-49f416b6621b",
   "metadata": {},
   "outputs": [],
   "source": []
  }
 ],
 "metadata": {
  "kernelspec": {
   "display_name": "Python 3",
   "language": "python",
   "name": "python3"
  },
  "language_info": {
   "codemirror_mode": {
    "name": "ipython",
    "version": 3
   },
   "file_extension": ".py",
   "mimetype": "text/x-python",
   "name": "python",
   "nbconvert_exporter": "python",
   "pygments_lexer": "ipython3",
   "version": "3.8.8"
  }
 },
 "nbformat": 4,
 "nbformat_minor": 5
}

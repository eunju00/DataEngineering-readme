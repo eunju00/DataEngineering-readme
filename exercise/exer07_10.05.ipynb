{
 "cells": [
  {
   "cell_type": "code",
   "execution_count": 1,
   "id": "3ac9fd55-762e-4b34-b9ef-4b47337fe951",
   "metadata": {},
   "outputs": [],
   "source": [
    "import numpy as np\n",
    "import pandas as pd\n",
    "from matplotlib import pyplot as plt"
   ]
  },
  {
   "cell_type": "code",
   "execution_count": 2,
   "id": "b09bed24-63fb-4d8f-ac75-40b647c350f6",
   "metadata": {},
   "outputs": [
    {
     "name": "stdout",
     "output_type": "stream",
     "text": [
      "[0 1 2]\n",
      "[2 3 4]\n",
      "[1 3 5 7]\n"
     ]
    }
   ],
   "source": [
    "\"\"\"\n",
    "Numpy Array Attributes\n",
    "\"\"\"\n",
    "\n",
    "print(np.arange(3)) # stop\n",
    "print(np.arange(2,5)) # start, stop\n",
    "print(np.arange(1,9,2)) # start, stop, step"
   ]
  },
  {
   "cell_type": "code",
   "execution_count": 3,
   "id": "23e48a5a-8c40-4a04-a726-d363f39fb824",
   "metadata": {},
   "outputs": [
    {
     "name": "stdout",
     "output_type": "stream",
     "text": [
      "[5 0 3 3 7 9]\n",
      "[[3 5 2 4]\n",
      " [7 6 8 8]\n",
      " [1 6 7 7]]\n",
      "[[[8 1 5 9 8]\n",
      "  [9 4 3 0 3]\n",
      "  [5 0 2 3 8]\n",
      "  [1 3 3 3 7]]\n",
      "\n",
      " [[0 1 9 9 0]\n",
      "  [4 7 3 2 7]\n",
      "  [2 0 0 4 5]\n",
      "  [5 6 8 4 1]]\n",
      "\n",
      " [[4 9 8 1 1]\n",
      "  [7 9 9 3 6]\n",
      "  [7 2 0 3 5]\n",
      "  [9 4 4 6 4]]]\n"
     ]
    }
   ],
   "source": [
    "#seed for reproducibility\n",
    "np.random.seed(0)\n",
    "\n",
    "arr1=np.random.randint(10,size=6)\n",
    "arr2=np.random.randint(10,size=(3,4))\n",
    "arr3=np.random.randint(10,size=(3,4,5))\n",
    "print(arr1)\n",
    "print(arr2)\n",
    "print(arr3)"
   ]
  },
  {
   "cell_type": "code",
   "execution_count": 4,
   "id": "6d3883d9-9d98-430d-b91a-d3df60170185",
   "metadata": {},
   "outputs": [
    {
     "name": "stdout",
     "output_type": "stream",
     "text": [
      "2\n",
      "(3, 4)\n",
      "12\n",
      "int64\n",
      "8\n",
      "96\n"
     ]
    }
   ],
   "source": [
    "print(arr2.ndim)\n",
    "print(arr2.shape)\n",
    "print(arr2.size)\n",
    "print(arr2.dtype)\n",
    "print(arr2.itemsize)\n",
    "print(arr2.nbytes)"
   ]
  },
  {
   "cell_type": "code",
   "execution_count": 5,
   "id": "24d559a5-b2e9-4b9d-8a57-71e4a87f0ba7",
   "metadata": {},
   "outputs": [
    {
     "name": "stdout",
     "output_type": "stream",
     "text": [
      "[0 1 2 3 4 5 6 7 8 9]\n",
      "[3 4 5 6]\n",
      "[0 1 2 3 4]\n",
      "[5 6 7 8 9]\n",
      "[0 3 6 9]\n",
      "[2 4 6]\n"
     ]
    }
   ],
   "source": [
    "\"\"\"\n",
    "array slicing\n",
    "\"\"\"\n",
    "arr=np.arange(10)\n",
    "print(arr)\n",
    "\n",
    "print(arr[3:7])\n",
    "print(arr[:5])\n",
    "print(arr[5:])\n",
    "print(arr[::3])\n",
    "print(arr[2:8:2])"
   ]
  },
  {
   "cell_type": "code",
   "execution_count": 6,
   "id": "846b3945-8547-4d88-996a-c7439cd8347d",
   "metadata": {},
   "outputs": [
    {
     "name": "stdout",
     "output_type": "stream",
     "text": [
      "[[4 3 4 4 8 4 3 7]\n",
      " [5 5 0 1 5 9 3 0]\n",
      " [5 0 1 2 4 2 0 3]\n",
      " [2 0 7 5 9 0 2 7]\n",
      " [2 9 2 3 3 2 3 4]\n",
      " [1 2 9 1 4 6 8 2]]\n",
      "[[9 0 2]\n",
      " [3 2 3]]\n",
      "[[4 3 4]\n",
      " [5 5 0]]\n",
      "[[4 4 8 3]\n",
      " [5 0 5 3]\n",
      " [5 1 4 0]]\n"
     ]
    }
   ],
   "source": [
    "\"\"\"\n",
    "multi-dimensional\n",
    "\"\"\"\n",
    "arr=np.random.randint(10,size=(6,8))\n",
    "print(arr)\n",
    "\n",
    "print(arr [3:5,4:7])\n",
    "#실습문제\n",
    "print(arr[:2,:3])\n",
    "print(arr[:3,::2])"
   ]
  },
  {
   "cell_type": "code",
   "execution_count": 7,
   "id": "9ab6a3c9-9eb3-49fd-97cc-018e382a5afe",
   "metadata": {},
   "outputs": [
    {
     "name": "stdout",
     "output_type": "stream",
     "text": [
      "[[5 8 9 5]\n",
      " [0 0 1 7]\n",
      " [6 9 2 4]] \n",
      "\n",
      "[[5 8]\n",
      " [0 0]] \n",
      "\n",
      "[[99  8  9  5]\n",
      " [ 0  0  1  7]\n",
      " [ 6  9  2  4]]\n"
     ]
    }
   ],
   "source": [
    "\n",
    "\"\"\"\n",
    "subarrays as views\n",
    "\"\"\"\n",
    "np.random.seed(1)\n",
    "arr=np.random.randint(10,size=(3,4))\n",
    "print(arr,\"\\n\")\n",
    "\n",
    "arr_sub=arr[:2,:2]\n",
    "print(arr_sub,\"\\n\")\n",
    "\n",
    "arr_sub[0,0]=99\n",
    "print(arr)"
   ]
  },
  {
   "cell_type": "code",
   "execution_count": 8,
   "id": "a06caf9f-a90e-410b-908d-2043fce64ffd",
   "metadata": {},
   "outputs": [
    {
     "name": "stdout",
     "output_type": "stream",
     "text": [
      "[[5 2 4]\n",
      " [2 4 7]]\n",
      "[[5 2]\n",
      " [2 4]] \n",
      "\n",
      "[[99  2]\n",
      " [ 2  4]]\n"
     ]
    }
   ],
   "source": [
    "#copy\n",
    "arr=np.random.randint(10,size=(2,3))\n",
    "print(arr)\n",
    "arr_sub=arr[:2,:2].copy()\n",
    "print(arr_sub,\"\\n\")\n",
    "\n",
    "arr_sub[0,0]=99\n",
    "print(arr_sub)"
   ]
  },
  {
   "cell_type": "code",
   "execution_count": 9,
   "id": "595b50c1-4e92-49a6-b643-006a366a0370",
   "metadata": {},
   "outputs": [
    {
     "name": "stdout",
     "output_type": "stream",
     "text": [
      "[[7 9 1 7 0 6 9 9 7]]\n",
      "[[7 9 1]\n",
      " [7 0 6]\n",
      " [9 9 7]]\n"
     ]
    }
   ],
   "source": [
    "\"\"\"\n",
    "reshaping of arrays\n",
    "\"\"\"\n",
    "arr=np.random.randint(10,size=(1,9))\n",
    "print(arr)\n",
    "grid=arr.reshape(3,3)\n",
    "print(grid)"
   ]
  },
  {
   "cell_type": "code",
   "execution_count": 10,
   "id": "9714033b-384f-4945-bc29-72e6c0cc0543",
   "metadata": {},
   "outputs": [
    {
     "name": "stdout",
     "output_type": "stream",
     "text": [
      "[1 2 3]\n",
      "arr.ndim= 1\n",
      "arr.shape= (3,)\n",
      "[[1 2 3]]\n",
      "arr_new.ndim= 2\n",
      "arr_new.shape= (1, 3)\n"
     ]
    }
   ],
   "source": [
    "#np.newaxis\n",
    "\n",
    "arr=np.array([1,2,3])\n",
    "print(arr)\n",
    "print(\"arr.ndim=\",arr.ndim)\n",
    "print(\"arr.shape=\",arr.shape)\n",
    "\n",
    "#arr_new=arr[:,np.newaxis]\n",
    "arr_new=arr[np.newaxis,:]\n",
    "print(arr_new)\n",
    "print(\"arr_new.ndim=\",arr_new.ndim)\n",
    "print(\"arr_new.shape=\",arr_new.shape)"
   ]
  },
  {
   "cell_type": "code",
   "execution_count": 11,
   "id": "be093221-4774-4c28-8856-564d14de9e34",
   "metadata": {},
   "outputs": [
    {
     "name": "stdout",
     "output_type": "stream",
     "text": [
      "[1 2 3 4 5 6 7 8 9] \n",
      "\n",
      "[[1 2 3]\n",
      " [4 5 6]\n",
      " [7 8 9]] \n",
      "\n"
     ]
    }
   ],
   "source": [
    "#concatenate\n",
    "arr_1=np.array([1,2,3])\n",
    "arr_2=np.array([4,5,6])\n",
    "arr_3=np.array([7,8,9])\n",
    "\n",
    "arr_total=np.concatenate([arr_1,arr_2,arr_3])\n",
    "arr_total1=np.vstack([arr_1,arr_2,arr_3])\n",
    "print(arr_total,\"\\n\")\n",
    "print(arr_total1,\"\\n\")"
   ]
  },
  {
   "cell_type": "code",
   "execution_count": 12,
   "id": "fb9d161d-c9c4-440b-b2bc-4544233a5d3e",
   "metadata": {},
   "outputs": [
    {
     "name": "stdout",
     "output_type": "stream",
     "text": [
      "[1, 2, 3, 99, 99, 3, 2, 1] \n",
      "\n",
      "[1 2 3]\n",
      "[99 99]\n",
      "[3 2 1]\n"
     ]
    }
   ],
   "source": [
    "arr=[1,2,3,99,99,3,2,1]\n",
    "print(arr,\"\\n\")\n",
    "\n",
    "arr_1,arr_2,arr_3=np.split(arr,[3,5])\n",
    "print(arr_1)\n",
    "print(arr_2)\n",
    "print(arr_3)"
   ]
  }
 ],
 "metadata": {
  "kernelspec": {
   "display_name": "Python 3 (ipykernel)",
   "language": "python",
   "name": "python3"
  },
  "language_info": {
   "codemirror_mode": {
    "name": "ipython",
    "version": 3
   },
   "file_extension": ".py",
   "mimetype": "text/x-python",
   "name": "python",
   "nbconvert_exporter": "python",
   "pygments_lexer": "ipython3",
   "version": "3.8.8"
  }
 },
 "nbformat": 4,
 "nbformat_minor": 5
}

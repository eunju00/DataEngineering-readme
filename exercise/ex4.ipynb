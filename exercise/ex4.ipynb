{
 "cells": [
  {
   "cell_type": "code",
   "execution_count": 1,
   "id": "db82e08d-35d1-4a66-9112-9e95a398c516",
   "metadata": {},
   "outputs": [
    {
     "data": {
      "text/plain": [
       "'\\n조건문\\n'"
      ]
     },
     "execution_count": 1,
     "metadata": {},
     "output_type": "execute_result"
    }
   ],
   "source": [
    "\"\"\"\n",
    "조건문\n",
    "\"\"\""
   ]
  },
  {
   "cell_type": "code",
   "execution_count": 2,
   "id": "17dd0105-bda1-4e6b-90e0-3f4e3506edef",
   "metadata": {},
   "outputs": [
    {
     "name": "stdout",
     "output_type": "stream",
     "text": [
      "1\n",
      "2\n",
      "3\n",
      "4\n",
      "5\n"
     ]
    }
   ],
   "source": [
    "#for 리스트의 아이템마다 반복문을 실행\n",
    "#for문 아래 print 들여쓰기 주의\n",
    "nums = [1,2,3,4,5]\n",
    "for num in nums:\n",
    "    print(num)"
   ]
  },
  {
   "cell_type": "code",
   "execution_count": 3,
   "id": "24873b33-f94f-443f-8d94-b571188d9c90",
   "metadata": {},
   "outputs": [
    {
     "name": "stdout",
     "output_type": "stream",
     "text": [
      "0\n",
      "1\n",
      "2\n",
      "3\n",
      "4\n",
      "Succeed\n",
      "Succeed\n",
      "Succeed\n",
      "Succeed\n",
      "Succeed\n"
     ]
    }
   ],
   "source": [
    "# range(n)\n",
    "for i in range(5):\n",
    "    print(i)\n",
    "    \n",
    "for i in range(5):\n",
    "    print(\"Succeed\")"
   ]
  },
  {
   "cell_type": "code",
   "execution_count": 4,
   "id": "c9e9933a-db96-4132-a625-850180f41bbe",
   "metadata": {},
   "outputs": [
    {
     "name": "stdout",
     "output_type": "stream",
     "text": [
      "1\n",
      "2\n",
      "4\n",
      "5\n",
      "2\n"
     ]
    }
   ],
   "source": [
    "#continue keyword\n",
    "\n",
    "nums = [1,2,-1,4,-5,5,2,-9]\n",
    "for num in nums:\n",
    "    if num < 0:\n",
    "        continue\n",
    "    print(num)\n"
   ]
  },
  {
   "cell_type": "code",
   "execution_count": 5,
   "id": "6dc7ffb1-edac-4d61-98e2-be6874f6ad0f",
   "metadata": {},
   "outputs": [
    {
     "name": "stdout",
     "output_type": "stream",
     "text": [
      "Lv1 is complete.\n",
      "Lv2 is complete.\n",
      "Lv3 is complete.\n",
      "Lv4 is complete.\n",
      "Game is Over...\n"
     ]
    }
   ],
   "source": [
    "#break keyword\n",
    "game_plays = ['Lv1', 'Lv2', 'Lv3', 'Lv4', 'gameover', 'Lv5']\n",
    "\n",
    "for play in game_plays:\n",
    "    if play == 'gameover':\n",
    "        print(\"Game is Over...\")\n",
    "        break\n",
    "        \n",
    "    print(play + \" is complete.\")"
   ]
  },
  {
   "cell_type": "code",
   "execution_count": 6,
   "id": "5c8761fe-e7cb-4811-8b4e-a247cef03481",
   "metadata": {},
   "outputs": [
    {
     "name": "stdout",
     "output_type": "stream",
     "text": [
      "[1, 2, 3, 4, 5, 6, 7, 8, 9, 10]\n"
     ]
    }
   ],
   "source": [
    "#List Comprehension for문을 이용한 리스트 생성\n",
    "#result = [expression for item in list]\n",
    "\n",
    "one_to_ten = [i+1 for i in range(10)]\n",
    "print(one_to_ten)"
   ]
  },
  {
   "cell_type": "code",
   "execution_count": 7,
   "id": "cc868ccd-ab50-4fa2-8464-f0a0408bd591",
   "metadata": {},
   "outputs": [
    {
     "name": "stdout",
     "output_type": "stream",
     "text": [
      "['손흥민', 'A+']\n",
      "손흥민\n",
      "A+\n",
      "['케인']\n"
     ]
    }
   ],
   "source": [
    "hotspurs = [['손흥민', 'A+'], ['케인', 'F']]\n",
    "print(hotspurs[0])\n",
    "print(hotspurs[0][0])\n",
    "print(hotspurs[0][1])\n",
    "\n",
    "poors = [player[0] for player in hotspurs if player[1] == 'F']\n",
    "print(poors)"
   ]
  },
  {
   "cell_type": "code",
   "execution_count": 8,
   "id": "b93f6066-0aea-4c13-99f8-8d561afecead",
   "metadata": {},
   "outputs": [
    {
     "name": "stdout",
     "output_type": "stream",
     "text": [
      "1 X 1 = 1\n",
      "1 X 2 = 2\n",
      "1 X 3 = 3\n",
      "1 X 4 = 4\n",
      "1 X 5 = 5\n",
      "2 X 1 = 2\n",
      "2 X 2 = 4\n",
      "2 X 3 = 6\n",
      "2 X 4 = 8\n",
      "2 X 5 = 10\n",
      "3 X 1 = 3\n",
      "3 X 2 = 6\n",
      "3 X 3 = 9\n",
      "3 X 4 = 12\n",
      "3 X 5 = 15\n",
      "4 X 1 = 4\n",
      "4 X 2 = 8\n",
      "4 X 3 = 12\n",
      "4 X 4 = 16\n",
      "4 X 5 = 20\n",
      "5 X 1 = 5\n",
      "5 X 2 = 10\n",
      "5 X 3 = 15\n",
      "5 X 4 = 20\n",
      "5 X 5 = 25\n",
      "6 X 1 = 6\n",
      "6 X 2 = 12\n",
      "6 X 3 = 18\n",
      "6 X 4 = 24\n",
      "6 X 5 = 30\n",
      "7 X 1 = 7\n",
      "7 X 2 = 14\n",
      "7 X 3 = 21\n",
      "7 X 4 = 28\n",
      "7 X 5 = 35\n",
      "8 X 1 = 8\n",
      "8 X 2 = 16\n",
      "8 X 3 = 24\n",
      "8 X 4 = 32\n",
      "8 X 5 = 40\n",
      "9 X 1 = 9\n",
      "9 X 2 = 18\n",
      "9 X 3 = 27\n",
      "9 X 4 = 36\n",
      "9 X 5 = 45\n"
     ]
    }
   ],
   "source": [
    "#Nested Loops\n",
    "#구구단 프로그램\n",
    "one_to_nine = [i+1 for i in range(9)]\n",
    "one_to_five = [i+1 for i in range(5)]\n",
    "\n",
    "for i in one_to_nine:\n",
    "    for j in one_to_five:\n",
    "        print(\"%d X %d = %d\" % (i,j,i*j))"
   ]
  },
  {
   "cell_type": "code",
   "execution_count": 9,
   "id": "14e7ae52-84c7-4a94-907a-dcc381d1f781",
   "metadata": {},
   "outputs": [
    {
     "name": "stdout",
     "output_type": "stream",
     "text": [
      "1 꿀꺽\n",
      "2 꿀꺽\n",
      "3 꿀꺽\n",
      "4 꿀꺽\n",
      "이제 그만\n"
     ]
    }
   ],
   "source": [
    "\n",
    "#while문 조건식이 true일때 반복문을 실행\n",
    "\n",
    "hungry = True\n",
    "foods = ['1','2','3','4','5','6','7']\n",
    "foods_nums = 7\n",
    "ate_nums = 0\n",
    "\n",
    "while ate_nums < 4:\n",
    "    print(foods[ate_nums] + \" 꿀꺽\")\n",
    "    ate_nums += 1\n",
    "    \n",
    "print(\"이제 그만\")"
   ]
  },
  {
   "cell_type": "code",
   "execution_count": 10,
   "id": "c2165bc9-f0cf-4e57-984e-2e45133a5dce",
   "metadata": {},
   "outputs": [
    {
     "name": "stdout",
     "output_type": "stream",
     "text": [
      "Do something\n",
      "Do something\n",
      "Do something\n",
      "Do something\n"
     ]
    }
   ],
   "source": [
    "#infinite loop\n",
    "\n",
    "x = 1\n",
    "y = 1\n",
    "\n",
    "while x<5:\n",
    "    print(\"Do something\")\n",
    "    x +=1 #올바른 종료조건문을 작성하자"
   ]
  }
 ],
 "metadata": {
  "kernelspec": {
   "display_name": "Python 3 (ipykernel)",
   "language": "python",
   "name": "python3"
  },
  "language_info": {
   "codemirror_mode": {
    "name": "ipython",
    "version": 3
   },
   "file_extension": ".py",
   "mimetype": "text/x-python",
   "name": "python",
   "nbconvert_exporter": "python",
   "pygments_lexer": "ipython3",
   "version": "3.8.8"
  }
 },
 "nbformat": 4,
 "nbformat_minor": 5
}

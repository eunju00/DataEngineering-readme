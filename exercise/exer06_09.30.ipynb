{
 "cells": [
  {
   "cell_type": "code",
   "execution_count": 1,
   "id": "89952f6c-1d23-4cd3-8df3-86818b3c64b1",
   "metadata": {},
   "outputs": [],
   "source": [
    "import numpy as np\n",
    "import pandas as pd\n",
    "from matplotlib import pyplot as plt"
   ]
  },
  {
   "cell_type": "code",
   "execution_count": 2,
   "id": "62f753b7-5fae-44e4-8623-ed343734e2a6",
   "metadata": {},
   "outputs": [
    {
     "name": "stdout",
     "output_type": "stream",
     "text": [
      "<U21\n",
      "int64\n",
      "float64\n"
     ]
    }
   ],
   "source": [
    "# dtype attribute\n",
    "\n",
    "a = np.array([1,\"a\",True])\n",
    "print(a.dtype)\n",
    "\n",
    "b = np.array([1,2,3])\n",
    "print(b.dtype)\n",
    "\n",
    "c = np.array([1.1,2,3])\n",
    "print(c.dtype)"
   ]
  },
  {
   "cell_type": "code",
   "execution_count": 4,
   "id": "7dae1725-cd09-4c32-8d12-b73299f713c0",
   "metadata": {},
   "outputs": [
    {
     "name": "stdout",
     "output_type": "stream",
     "text": [
      "416\n",
      "96\n",
      "192\n",
      "240\n"
     ]
    }
   ],
   "source": [
    "\"\"\"\n",
    "size \n",
    "\"\"\"\n",
    "from sys import getsizeof\n",
    "\n",
    "lst=[1]\n",
    "print(getsizeof(list)) #int+object meta info\n",
    "\n",
    "arr=np.array(list)\n",
    "print(getsizeof(arr)) #int(dtypes)\n",
    "\n",
    "lst1=[1,2,3,4,5,6,7,8,9,10,11,12,13,14,15,16,17]\n",
    "print(getsizeof(lst1))\n",
    "\n",
    "arr2=np.array(lst1)\n",
    "print(getsizeof(arr2))"
   ]
  },
  {
   "cell_type": "code",
   "execution_count": 5,
   "id": "7fb46384-e3a0-4e88-859c-ffa9f639ddb6",
   "metadata": {},
   "outputs": [
    {
     "name": "stdout",
     "output_type": "stream",
     "text": [
      "[25, 20, 35, 15, 15, 30, 45, 30]\n",
      "[25 20 35 15 15 30 45 30]\n"
     ]
    }
   ],
   "source": [
    "prices=[30,25,40,20,20,35,50,35]\n",
    "#with a list\n",
    "new_prices=[price-5 for price in prices]\n",
    "print(new_prices)\n",
    "#with a ndarray\n",
    "prices_arr=np.array(prices)\n",
    "prices_arr=prices_arr-5\n",
    "print(prices_arr)"
   ]
  },
  {
   "cell_type": "code",
   "execution_count": 6,
   "id": "c78a517d-790e-4f05-8602-3707cba52924",
   "metadata": {},
   "outputs": [
    {
     "name": "stdout",
     "output_type": "stream",
     "text": [
      "[89 87 74 92 94]\n",
      "[258 279 246 274 270]\n",
      "[86.         93.         82.         91.33333333 90.        ]\n",
      "93\n",
      "[94 88]\n"
     ]
    }
   ],
   "source": [
    "\"\"\"\n",
    "exercise\n",
    "\"\"\"\n",
    "test_1=np.array([92,94,88,91,87])\n",
    "test_2=np.array([79,100,86,93,91])\n",
    "test_3=np.array([87,85,72,90,92])\n",
    "\n",
    "test_3_fixed=test_3+2\n",
    "print(test_3_fixed)\n",
    "\n",
    "total_grade=test_1+test_2+test_3\n",
    "print(total_grade)\n",
    "\n",
    "final_grade=total_grade /3\n",
    "print(final_grade)\n",
    "\n",
    "jeremy_test_2=test_2[3]\n",
    "print(jeremy_test_2)\n",
    "\n",
    "manual_adwoa_test_1=np.array([test_1[1],test_1[2]])\n",
    "print(manual_adwoa_test_1)"
   ]
  },
  {
   "cell_type": "code",
   "execution_count": 7,
   "id": "552575c1-06d4-4fa7-9972-85409e99262f",
   "metadata": {},
   "outputs": [
    {
     "name": "stdout",
     "output_type": "stream",
     "text": [
      "[[ 92  94  88  91  87]\n",
      " [ 79 100  86  93  91]\n",
      " [ 87  85  72  90  92]]\n",
      "87\n",
      "[87 91 92]\n",
      "[87 91 92]\n"
     ]
    }
   ],
   "source": [
    "student_scores=np.array([test_1,test_2,test_3])\n",
    "print(student_scores)\n",
    "\n",
    "print(student_scores[2][0])\n",
    "\n",
    "print(student_scores[:,4])\n",
    "print(student_scores[:,-1])"
   ]
  },
  {
   "cell_type": "code",
   "execution_count": 8,
   "id": "fa4535c7-b50e-46cc-a25f-c082f3ebc346",
   "metadata": {},
   "outputs": [
    {
     "name": "stdout",
     "output_type": "stream",
     "text": [
      "[ True False False False False False  True  True  True  True]\n",
      "[10  9  8  9  7]\n",
      "[10  2  2  9  8  9  7]\n",
      "[10  2  2  9  8  9  7]\n",
      "[5 7]\n"
     ]
    }
   ],
   "source": [
    "\"\"\"\n",
    "logical poerations\n",
    "\"\"\"\n",
    "a=np.array([10,2,2,4,5,3,9,8,9,7])\n",
    "mask=a>5\n",
    "print(mask)\n",
    "\n",
    "#부분집합 구하기(selection)\n",
    "selected=a[a>5]\n",
    "print(selected)\n",
    "\n",
    "#논리식 결합\n",
    "selected=a[(a>5)|(a<3)]\n",
    "print(selected)\n",
    "\n",
    "sclceted=a[(a>6)|(a<4)]\n",
    "print(selected)\n",
    "\n",
    "selected=a[(a>4)&(a<8)]\n",
    "print(selected)"
   ]
  }
 ],
 "metadata": {
  "kernelspec": {
   "display_name": "Python 3 (ipykernel)",
   "language": "python",
   "name": "python3"
  },
  "language_info": {
   "codemirror_mode": {
    "name": "ipython",
    "version": 3
   },
   "file_extension": ".py",
   "mimetype": "text/x-python",
   "name": "python",
   "nbconvert_exporter": "python",
   "pygments_lexer": "ipython3",
   "version": "3.8.8"
  }
 },
 "nbformat": 4,
 "nbformat_minor": 5
}

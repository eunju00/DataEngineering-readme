{
 "cells": [
  {
   "cell_type": "code",
   "execution_count": 4,
   "id": "f2ebb673-82a4-46f1-af64-353977add524",
   "metadata": {},
   "outputs": [
    {
     "name": "stdout",
     "output_type": "stream",
     "text": [
      "hello world!\n",
      "100\n",
      "3.14\n",
      "My name is Park Eun Ju!\n"
     ]
    }
   ],
   "source": [
    "\"\"\"\n",
    "hello world\n",
    "\"\"\"\n",
    "\n",
    "print(\"hello world!\")\n",
    "print(100)\n",
    "pi=3.14\n",
    "print(pi)\n",
    "\n",
    "introduce=\"My name is \"\n",
    "name=\"Park Eun Ju\"\n",
    "print(introduce+name+\"!\")"
   ]
  },
  {
   "cell_type": "code",
   "execution_count": 5,
   "id": "47fb5c23-d43c-4b4a-824e-e3e2b7c13608",
   "metadata": {},
   "outputs": [],
   "source": [
    "#esc누르고 B누르면 새로운 셀 생성\n",
    "#Shift+Enter 누르면 한줄 실행한 다음 새로운 셀 생성"
   ]
  },
  {
   "cell_type": "code",
   "execution_count": 6,
   "id": "0bbf0a26-0812-472d-b2fb-423835870a30",
   "metadata": {},
   "outputs": [
    {
     "name": "stdout",
     "output_type": "stream",
     "text": [
      "x= 1\n",
      "Address of x: 4336834912\n",
      "x= 2\n",
      "Address of x: 4336834944\n"
     ]
    }
   ],
   "source": [
    "\"\"\"\n",
    "variable\n",
    "\"\"\"\n",
    "\n",
    "user_name= \"Park Eun Ju\"\n",
    "user_id= 201955085\n",
    "user_email=\"dmswn1713@hs.ac.kr\"\n",
    "user_birthday=20001018\n",
    "\n",
    "#assignment\n",
    "x=1\n",
    "print('x=',x)\n",
    "print(\"Address of x:\",id(x))\n",
    "\n",
    "\n",
    "x=2\n",
    "print('x=',x)\n",
    "print(\"Address of x:\",id(x))"
   ]
  },
  {
   "cell_type": "code",
   "execution_count": 7,
   "id": "faf5d645-0e4d-4626-99e6-f2bc6292e958",
   "metadata": {},
   "outputs": [
    {
     "name": "stdout",
     "output_type": "stream",
     "text": [
      "True\n"
     ]
    }
   ],
   "source": [
    "user_name = \"Park Eun Ju\"\n",
    "user_age = 22\n",
    "user_grade = \"sophomore\"\n",
    "is_student = True\n",
    "\n",
    "print(is_student)"
   ]
  },
  {
   "cell_type": "code",
   "execution_count": 9,
   "id": "edf7c4e3-d1c9-476b-a9df-aaa45b434170",
   "metadata": {},
   "outputs": [],
   "source": [
    "\"\"\"\n",
    "data types:integers\n",
    "\"\"\"\n",
    "\n",
    "pens=6\n",
    "computers=2\n",
    "broken_computers=-1"
   ]
  },
  {
   "cell_type": "code",
   "execution_count": 17,
   "id": "86dfbe43-4230-4aab-80a2-ced85794fe45",
   "metadata": {},
   "outputs": [],
   "source": [
    "\"\"\"\n",
    "data types:Real Numbers\n",
    "\"\"\"\n",
    "\n",
    "pi=3.14\n",
    "kospi_index=3125.76\n",
    "krw_usd_exchange=1176.83\n"
   ]
  },
  {
   "cell_type": "code",
   "execution_count": 10,
   "id": "051f9433-00a0-4fe1-a333-e92cfd4678d3",
   "metadata": {},
   "outputs": [],
   "source": [
    "\"\"\"\n",
    "Data Types:Float\n",
    "\"\"\"\n",
    "user_height = 177.6\n",
    "kosdaq = 1037.74\n",
    "consumer_price_index= 105.42\n",
    "\n",
    "#본인이 알고있는 세 개의 실수를 변수로 표현하시오 pi,kospi,krw제외"
   ]
  },
  {
   "cell_type": "code",
   "execution_count": 15,
   "id": "4134f2eb-c5b5-470e-a468-9d3dc716b606",
   "metadata": {},
   "outputs": [
    {
     "name": "stdout",
     "output_type": "stream",
     "text": [
      "Never say Never\n",
      "Card Game\n",
      "Peach\n",
      "Never say NeverCard GamePeach\n"
     ]
    }
   ],
   "source": [
    "\"\"\"\n",
    "Data Types: String\n",
    "\"\"\"\n",
    "\n",
    "favorite_motto = \"Never say Never\"\n",
    "favorite_game = \"Card Game\"\n",
    "favorite_fruit = \"Peach\"\n",
    "\n",
    "print(favorite_motto)\n",
    "print(favorite_game)\n",
    "print(favorite_fruit)\n",
    "\n",
    "favorites=favorite_motto + favorite_game + favorite_fruit\n",
    "print(favorites)\n",
    "\n",
    "#본인이 좋아하는 것들을 문자열의 변수로 정의하시오\""
   ]
  },
  {
   "cell_type": "code",
   "execution_count": 16,
   "id": "f183c02e-3625-4df8-958c-a56a19fade9e",
   "metadata": {},
   "outputs": [
    {
     "name": "stdout",
     "output_type": "stream",
     "text": [
      "4\n",
      "8\n",
      "64\n",
      "62\n",
      "31.0\n"
     ]
    }
   ],
   "source": [
    "\"\"\"\n",
    "x-equals operation\n",
    "\"\"\"\n",
    "\n",
    "a=2\n",
    "a+=2\n",
    "print(a)\n",
    "a*=2\n",
    "print(a)\n",
    "a**=2\n",
    "print(a)\n",
    "a-=2\n",
    "print(a)\n",
    "a/=2\n",
    "print(a)"
   ]
  }
 ],
 "metadata": {
  "kernelspec": {
   "display_name": "Python 3 (ipykernel)",
   "language": "python",
   "name": "python3"
  },
  "language_info": {
   "codemirror_mode": {
    "name": "ipython",
    "version": 3
   },
   "file_extension": ".py",
   "mimetype": "text/x-python",
   "name": "python",
   "nbconvert_exporter": "python",
   "pygments_lexer": "ipython3",
   "version": "3.8.8"
  }
 },
 "nbformat": 4,
 "nbformat_minor": 5
}

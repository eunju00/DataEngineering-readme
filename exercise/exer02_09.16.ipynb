{
 "cells": [
  {
   "cell_type": "code",
   "execution_count": 1,
   "id": "5f507b3d-1bee-4f10-b5fa-d99639125c2d",
   "metadata": {},
   "outputs": [
    {
     "name": "stdout",
     "output_type": "stream",
     "text": [
      "흥민이는 정처기 시험을 응시했는가? True\n",
      "흥민이는 정처기 시험을 통과했는가? False\n",
      "<class 'bool'>\n",
      "<class 'bool'>\n",
      "<class 'str'>\n",
      "<class 'int'>\n",
      "<class 'float'>\n"
     ]
    }
   ],
   "source": [
    "\"\"\"\n",
    "Boolean Valus\n",
    "True,False\n",
    "\"\"\"\n",
    "\n",
    "is_tested=True\n",
    "is_passed=False\n",
    "\n",
    "print(\"흥민이는 정처기 시험을 응시했는가?\",is_tested)\n",
    "print(\"흥민이는 정처기 시험을 통과했는가?\",is_passed)\n",
    "\n",
    "print(type(is_tested))\n",
    "print(type(is_passed))\n",
    "\n",
    "a=\"3.14\"\n",
    "print(type(a))\n",
    "a=1\n",
    "print(type(a))\n",
    "a=3.14\n",
    "print(type(a))"
   ]
  },
  {
   "cell_type": "code",
   "execution_count": 2,
   "id": "95a73eaf-d4ef-4003-aefc-bcf35ae2878c",
   "metadata": {},
   "outputs": [
    {
     "data": {
      "text/plain": [
       "True"
      ]
     },
     "execution_count": 2,
     "metadata": {},
     "output_type": "execute_result"
    }
   ],
   "source": [
    "\"\"\"\n",
    "relational operators\n",
    "\"\"\"\n",
    "\n",
    "a=2\n",
    "b=3\n",
    "\n",
    "a<b\n",
    "a>b\n",
    "a>=b\n",
    "a<=b\n",
    "a<=a"
   ]
  },
  {
   "cell_type": "code",
   "execution_count": 3,
   "id": "12a30281-92ce-4096-8a85-727c13fb4453",
   "metadata": {},
   "outputs": [
    {
     "name": "stdout",
     "output_type": "stream",
     "text": [
      "True\n",
      "True\n",
      "False\n"
     ]
    }
   ],
   "source": [
    "\"\"\"\n",
    "equal operator ==\n",
    "\"\"\"\n",
    "#1\n",
    "print(\"Yes\"==\"Yes\")\n",
    "#2\n",
    "print((2>1)==(5<10))\n",
    "#3\n",
    "c='2'\n",
    "d=2\n",
    "print(c==d)"
   ]
  },
  {
   "cell_type": "code",
   "execution_count": 4,
   "id": "c3830741-9f62-4fee-aeee-5a1df56626b0",
   "metadata": {},
   "outputs": [
    {
     "name": "stdout",
     "output_type": "stream",
     "text": [
      "True\n",
      "True\n",
      "True\n"
     ]
    }
   ],
   "source": [
    "\"\"\"\n",
    "npt equals operator !=\n",
    "\"\"\"\n",
    "#1\n",
    "print(\"Yes\"!=\"No\")\n",
    "#2\n",
    "val1=12\n",
    "val2=20\n",
    "print(val1 != val2)\n",
    "#3\n",
    "print((10>1)!=(10>1000))"
   ]
  },
  {
   "cell_type": "code",
   "execution_count": 5,
   "id": "b65771d8-eb1a-4fd0-9ef3-2097f342b2c0",
   "metadata": {},
   "outputs": [
    {
     "name": "stdout",
     "output_type": "stream",
     "text": [
      "아! 말티푸구나.\n",
      "True\n"
     ]
    }
   ],
   "source": [
    "\"\"\"\n",
    "conditional statements if/elif/else\n",
    "\"\"\"\n",
    "puppy=\"maltepoo\"\n",
    "age=1\n",
    "is_yes=False\n",
    "\n",
    "if puppy == \"maltese\":\n",
    "    print(\"말티즈\")\n",
    "    is_yes=True\n",
    "    \n",
    "    if age>3:\n",
    "        print(\"말티즈 새끼.\")\n",
    "    \n",
    "elif puppy == \"poodle\":\n",
    "    print(\" 푸들\")\n",
    "    is_yes=True\n",
    "elif puppy == \"shihtzu\":\n",
    "    pirnt(\"시츄\")\n",
    "    is_yes=True\n",
    "else:\n",
    "    print(\"아! 말티푸구나.\")\n",
    "    is_yes=True\n",
    "print(is_yes)"
   ]
  },
  {
   "cell_type": "code",
   "execution_count": 6,
   "id": "f66ad834-ce8a-4b40-a802-3027bea01875",
   "metadata": {},
   "outputs": [
    {
     "name": "stdout",
     "output_type": "stream",
     "text": [
      "[ERROR]: y is not declared\n",
      "continue...\n"
     ]
    }
   ],
   "source": [
    "\"\"\"\n",
    "handling exception \n",
    "\"\"\"\n",
    "\n",
    "x=1\n",
    "\n",
    "try:\n",
    "    print(y)\n",
    "    print(x)\n",
    "except:\n",
    "    print(\"[ERROR]: y is not declared\")\n",
    "print(\"continue...\")"
   ]
  }
 ],
 "metadata": {
  "kernelspec": {
   "display_name": "Python 3 (ipykernel)",
   "language": "python",
   "name": "python3"
  },
  "language_info": {
   "codemirror_mode": {
    "name": "ipython",
    "version": 3
   },
   "file_extension": ".py",
   "mimetype": "text/x-python",
   "name": "python",
   "nbconvert_exporter": "python",
   "pygments_lexer": "ipython3",
   "version": "3.8.8"
  }
 },
 "nbformat": 4,
 "nbformat_minor": 5
}

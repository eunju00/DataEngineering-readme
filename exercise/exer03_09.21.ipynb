{
 "cells": [
  {
   "cell_type": "code",
   "execution_count": 1,
   "id": "b4134c5f-fb85-4b06-85be-dd6f82f2253f",
   "metadata": {},
   "outputs": [
    {
     "name": "stdout",
     "output_type": "stream",
     "text": [
      "[2, 3, 5, 7, 11, 2]\n",
      "[]\n"
     ]
    }
   ],
   "source": [
    "\"\"\"\n",
    "Lists\n",
    "\"\"\"\n",
    "\n",
    "primes= [2,3,5,7,11,2]\n",
    "print(primes)\n",
    "\n",
    "empty_list=[]\n",
    "print(empty_list)"
   ]
  },
  {
   "cell_type": "code",
   "execution_count": 2,
   "id": "fc0db03a-1f17-4a01-809b-61de906c9e08",
   "metadata": {},
   "outputs": [
    {
     "name": "stdout",
     "output_type": "stream",
     "text": [
      "[1, 2, 3, 4, 10]\n",
      "['Jenny', 'Sam', 'Alexsis']\n",
      "['Jenny', 1, 2]\n",
      "[['a', 1], ['b', 2]]\n"
     ]
    }
   ],
   "source": [
    "numbers=[1,2,3,4,10]\n",
    "names=['Jenny','Sam','Alexsis']\n",
    "mixed=['Jenny',1,2]\n",
    "List_of_lists=[['a',1],['b',2]]\n",
    "print(numbers)\n",
    "print(names)\n",
    "print(mixed)\n",
    "print(List_of_lists)"
   ]
  },
  {
   "cell_type": "code",
   "execution_count": 3,
   "id": "19aad510-a5b1-44d4-af36-99db236aa839",
   "metadata": {},
   "outputs": [
    {
     "name": "stdout",
     "output_type": "stream",
     "text": [
      "Roger\n",
      "Rafael\n",
      "Andy\n",
      "Novak\n"
     ]
    }
   ],
   "source": [
    "\"\"\"\n",
    "Zero-indexing\n",
    "\"\"\"\n",
    "names = ['Roger', 'Rafael','Andy','Novak']\n",
    "\n",
    "print(names[0])#first data\n",
    "print(names[1])\n",
    "print(names[2])\n",
    "print(names[3])"
   ]
  },
  {
   "cell_type": "code",
   "execution_count": 4,
   "id": "8430c053-f3a2-45ac-9a3e-2c613d3e6818",
   "metadata": {},
   "outputs": [
    {
     "name": "stdout",
     "output_type": "stream",
     "text": [
      "Novak\n",
      "Andy\n",
      "Rafael\n",
      "Roger\n"
     ]
    }
   ],
   "source": [
    "\"\"\"\n",
    "Negative Indexing\n",
    "\"\"\"\n",
    "print(names[-1]) #Last data\n",
    "print(names[-2]) #second to last data\n",
    "print(names[-3]) #third to last data\n",
    "print(names[-4]) #fourth to last data"
   ]
  },
  {
   "cell_type": "code",
   "execution_count": 5,
   "id": "c4d61230-24b7-43cd-a857-4aa2c1b4df26",
   "metadata": {},
   "outputs": [
    {
     "name": "stdout",
     "output_type": "stream",
     "text": [
      "['생활관', '필헌관', '소통관']\n",
      "['만우관', '장공관', '필헌관', '소통관', '송암관', '늦봄관', '장준하통일관']\n"
     ]
    }
   ],
   "source": [
    "\"\"\"\n",
    "List slicing\n",
    "\"\"\"\n",
    "hsu_buildings = ['만우관','장공관','필헌관','소통관','송암관','늦봄관','장준하통일관']\n",
    "building_slice = hsu_buildings[1:4] # 독립적인 객체\n",
    "building_slice[0] ='생활관'\n",
    "\n",
    "print(building_slice)\n",
    "print(hsu_buildings)"
   ]
  },
  {
   "cell_type": "code",
   "execution_count": 6,
   "id": "dfdbaf88-9fc9-43ca-ab16-33439524fde6",
   "metadata": {},
   "outputs": [
    {
     "name": "stdout",
     "output_type": "stream",
     "text": [
      "[['해우리', '한식', '고S'], ['짜장명가', '중식', '중화비빔밥'], ['찌개동아리', '한식', '제육전골'], ['맘스터치', '양식', '싸이버거']]\n",
      "중화비빔밥\n",
      "['해우리', '한식', '해우라면']\n"
     ]
    }
   ],
   "source": [
    "\"\"\"\n",
    "multi-dimensional lists\n",
    "\"\"\"\n",
    "restaurants=[['해우리','한식','고S'],['짜장명가','중식','중화비빔밥'],['찌개동아리','한식','제육전골'],['맘스터치','양식','싸이버거']]\n",
    "\n",
    "print(restaurants)\n",
    "print(restaurants[1][2])\n",
    "restaurants[0][2]='해우라면'\n",
    "print(restaurants[0])"
   ]
  },
  {
   "cell_type": "code",
   "execution_count": 7,
   "id": "8a632d0f-665b-4e6e-9a4f-41c882c636c6",
   "metadata": {},
   "outputs": [
    {
     "name": "stdout",
     "output_type": "stream",
     "text": [
      "['cake', 'cookie', 'bread', 'biscuit', 'tart']\n"
     ]
    }
   ],
   "source": [
    "\"\"\"\n",
    "adding lists together\n",
    "\"\"\"\n",
    "items_one=['cake','cookie','bread']\n",
    "items_two=['biscuit','tart']\n",
    "\n",
    "total_items=items_one+items_two\n",
    "print(total_items)"
   ]
  },
  {
   "cell_type": "code",
   "execution_count": 8,
   "id": "1360861f-57fe-4570-a29e-21aef097e380",
   "metadata": {},
   "outputs": [
    {
     "name": "stdout",
     "output_type": "stream",
     "text": [
      "5\n",
      "3\n",
      "['daisies', 'periwinkle', 'tulips']\n",
      "['Karla', 'Maxium', 'Vikor', 'Martim', 'Isabella']\n"
     ]
    }
   ],
   "source": [
    "\"\"\"\n",
    "useful methods of lists\n",
    "\"\"\"\n",
    "#len()\n",
    "knapsck=[2,4,3,7,10]\n",
    "size=len(knapsck)\n",
    "print(size)\n",
    "\n",
    "#count()\n",
    "backpack=['pencil','pen','notebook','textbook','pen','highlighter','pen']\n",
    "numPen=backpack.count('pen')\n",
    "print(numPen)\n",
    "\n",
    "#append()\n",
    "orders=['daisies','periwinkle']\n",
    "orders.append('tulips')\n",
    "print(orders)\n",
    "\n",
    "#insert()\n",
    "store_line=['Karla','Maxium','Martim','Isabella']\n",
    "store_line.insert(2,'Vikor')\n",
    "print(store_line)"
   ]
  },
  {
   "cell_type": "code",
   "execution_count": 9,
   "id": "33292d18-2221-49d8-9dc5-1e6f803ab2fc",
   "metadata": {},
   "outputs": [
    {
     "name": "stdout",
     "output_type": "stream",
     "text": [
      "['C programming', 'Calculus', 'Data Structures', 'Machine Learning']\n",
      "['C programming', 'Calculus', 'Data Structures']\n"
     ]
    }
   ],
   "source": [
    "#pop\n",
    "sw_subjects=['C programming','Calculus','Data Engineering','Data Structures','Machine Learning']\n",
    "sw_subjects.pop(2)\n",
    "print(sw_subjects)\n",
    "\n",
    "sw_subjects.pop()\n",
    "print(sw_subjects)"
   ]
  },
  {
   "cell_type": "code",
   "execution_count": 10,
   "id": "8adec584-e8ef-417c-9717-23d6a1a250a5",
   "metadata": {},
   "outputs": [
    {
     "name": "stdout",
     "output_type": "stream",
     "text": [
      "['C programming', 'Data Structures']\n"
     ]
    },
    {
     "ename": "ValueError",
     "evalue": "list.remove(x): x not in list",
     "output_type": "error",
     "traceback": [
      "\u001b[0;31m---------------------------------------------------------------------------\u001b[0m",
      "\u001b[0;31mValueError\u001b[0m                                Traceback (most recent call last)",
      "\u001b[0;32m/var/folders/k0/hqjhdl490y9_s8p891116z8r0000gn/T/ipykernel_1973/2638956485.py\u001b[0m in \u001b[0;36m<module>\u001b[0;34m\u001b[0m\n\u001b[1;32m      4\u001b[0m \u001b[0mprint\u001b[0m\u001b[0;34m(\u001b[0m\u001b[0msw_subjects\u001b[0m\u001b[0;34m)\u001b[0m\u001b[0;34m\u001b[0m\u001b[0;34m\u001b[0m\u001b[0m\n\u001b[1;32m      5\u001b[0m \u001b[0;34m\u001b[0m\u001b[0m\n\u001b[0;32m----> 6\u001b[0;31m \u001b[0msw_subjects\u001b[0m\u001b[0;34m.\u001b[0m\u001b[0mremove\u001b[0m\u001b[0;34m(\u001b[0m\u001b[0;34m'Algorithms'\u001b[0m\u001b[0;34m)\u001b[0m\u001b[0;34m\u001b[0m\u001b[0;34m\u001b[0m\u001b[0m\n\u001b[0m",
      "\u001b[0;31mValueError\u001b[0m: list.remove(x): x not in list"
     ]
    }
   ],
   "source": [
    "#remove\n",
    "\n",
    "sw_subjects.remove('Calculus')\n",
    "print(sw_subjects)\n",
    "\n",
    "sw_subjects.remove('Algorithms')"
   ]
  },
  {
   "cell_type": "code",
   "execution_count": 11,
   "id": "41a71fba-1227-49b7-aacd-260a0cd5f947",
   "metadata": {},
   "outputs": [
    {
     "name": "stdout",
     "output_type": "stream",
     "text": [
      "[1, 2, 3, 4]\n",
      "['늦봄관', '만우관', '소통관', '송암관', '장공관', '장준하통일관', '필현관']\n",
      "[1, 2, 3, 4]\n"
     ]
    }
   ],
   "source": [
    "#sort()\n",
    "numbers=[4,2,1,3]\n",
    "numbers.sort()\n",
    "print(numbers)\n",
    "\n",
    "hsu_buildings=['만우관','장공관','필현관','소통관','송암관','늦봄관','장준하통일관']\n",
    "hsu_buildings.sort()\n",
    "print(hsu_buildings)\n",
    "\n",
    "#sorted()\n",
    "numbers=[4,2,1,3]\n",
    "sorted_numbers=sorted(numbers)\n",
    "print(sorted_numbers)"
   ]
  }
 ],
 "metadata": {
  "kernelspec": {
   "display_name": "Python 3 (ipykernel)",
   "language": "python",
   "name": "python3"
  },
  "language_info": {
   "codemirror_mode": {
    "name": "ipython",
    "version": 3
   },
   "file_extension": ".py",
   "mimetype": "text/x-python",
   "name": "python",
   "nbconvert_exporter": "python",
   "pygments_lexer": "ipython3",
   "version": "3.8.8"
  }
 },
 "nbformat": 4,
 "nbformat_minor": 5
}

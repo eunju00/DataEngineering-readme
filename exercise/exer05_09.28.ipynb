{
 "cells": [
  {
   "cell_type": "code",
   "execution_count": 1,
   "id": "35953ff3-bbd9-4ae8-b79c-cc3d7541ce19",
   "metadata": {},
   "outputs": [
    {
     "name": "stdout",
     "output_type": "stream",
     "text": [
      "3\n",
      "2\n"
     ]
    }
   ],
   "source": [
    "\"\"\"\n",
    "Functions vs Method\n",
    "\"\"\"\n",
    "\n",
    "def my_function(x):\n",
    "    return x+1\n",
    "\n",
    "my_function(1)\n",
    "y=2\n",
    "result = my_function(y)\n",
    "print(result)\n",
    "\n",
    "#Method\n",
    "\n",
    "x=1\n",
    "\n",
    "class my_class:\n",
    "    def my_method(self):\n",
    "        return x+1\n",
    "\n",
    "cls=my_class()\n",
    "print(cls.my_method())"
   ]
  },
  {
   "cell_type": "code",
   "execution_count": 3,
   "id": "ca0dbc7d-7e4b-4f2b-ab61-38c7a29de6d1",
   "metadata": {},
   "outputs": [
    {
     "name": "stdout",
     "output_type": "stream",
     "text": [
      "Hello everyone, my name is Park Eun Ju, I was born in 2000,    and I live in Seoul.\n"
     ]
    }
   ],
   "source": [
    "\"\"\"\n",
    "Function Parameters\n",
    "\"\"\"\n",
    "\n",
    "def introduce_myself(name,birthyear,city):\n",
    "    print(\"Hello everyone, my name is %s, I was born in %d,\\\n",
    "    and I live in %s.\" % (name,birthyear, city))\n",
    "          \n",
    "introduce_myself(\"Park Eun Ju\",2000,\"Seoul\")"
   ]
  },
  {
   "cell_type": "code",
   "execution_count": 4,
   "id": "192f9425-854b-4d7a-a84c-d32c68e52e7a",
   "metadata": {},
   "outputs": [
    {
     "name": "stdout",
     "output_type": "stream",
     "text": [
      "2021is a not leap year.\n",
      "2020is a leap year.\n"
     ]
    }
   ],
   "source": [
    "\"\"\"\n",
    "returning value from function\n",
    "\"\"\"\n",
    "def check_leap_year(year):\n",
    "    if year%4==0:\n",
    "        return str(year)+\"is a leap year.\"\n",
    "    else:\n",
    "        return str(year)+\"is a not leap year.\"\n",
    "    \n",
    "print(check_leap_year(2021))\n",
    "\n",
    "result=check_leap_year(2020)\n",
    "print(result)"
   ]
  },
  {
   "cell_type": "code",
   "execution_count": 5,
   "id": "93f9d3a2-0015-4ab4-ae57-4ebec6214b0e",
   "metadata": {},
   "outputs": [
    {
     "name": "stdout",
     "output_type": "stream",
     "text": [
      "9 16 25\n"
     ]
    }
   ],
   "source": [
    "\"\"\"\n",
    "returning multiple values\n",
    "\"\"\"\n",
    "def square_point(x,y,z):\n",
    "    x_squared=x**2\n",
    "    y_squared=y**2\n",
    "    z_squared=z**2\n",
    "    return x_squared,y_squared, z_squared\n",
    "\n",
    "three_squared,four_squared,five_squared= square_point(3,4,5)\n",
    "\n",
    "print(three_squared,four_squared,five_squared)"
   ]
  },
  {
   "cell_type": "code",
   "execution_count": 6,
   "id": "6592ed66-a496-43a2-ae7a-754fbe21005c",
   "metadata": {},
   "outputs": [
    {
     "name": "stdout",
     "output_type": "stream",
     "text": [
      "Hello\n"
     ]
    }
   ],
   "source": [
    "\"\"\"\n",
    "global vaiables\n",
    "\"\"\"\n",
    "a='Hello'\n",
    "\n",
    "def prints_a():\n",
    "    #a='Hello' : 지역변수\n",
    "    print(a)\n",
    "prints_a()"
   ]
  },
  {
   "cell_type": "code",
   "execution_count": 7,
   "id": "38f9b6a9-a114-49cb-9296-7da8f63255d7",
   "metadata": {},
   "outputs": [
    {
     "name": "stdout",
     "output_type": "stream",
     "text": [
      "5\n",
      "2\n"
     ]
    }
   ],
   "source": [
    "\"\"\"\n",
    "local variables\n",
    "\"\"\"\n",
    "a=5 \n",
    "def f1():\n",
    "    a=2\n",
    "    print(a)\n",
    "print(a)\n",
    "f1()"
   ]
  },
  {
   "cell_type": "code",
   "execution_count": 8,
   "id": "13cbf501-efc2-4ebd-936a-3dd460f5a3c4",
   "metadata": {},
   "outputs": [
    {
     "name": "stdout",
     "output_type": "stream",
     "text": [
      "Height= 1\n",
      "Width= 2\n",
      "Depth= 3\n",
      "6\n",
      "Height= 2\n",
      "Width= 1\n",
      "Depth= 3\n",
      "6\n",
      "Height= 1\n",
      "Width= 2\n",
      "Depth= 3\n",
      "6\n",
      "Height= 3\n",
      "Width= 1\n",
      "Depth= 1\n",
      "3\n"
     ]
    }
   ],
   "source": [
    "\"\"\"\n",
    "keyword arguments and default values\n",
    "\"\"\"    \n",
    "def findvolume(height=1,width=1,depth=1):\n",
    "    print(\"Height= \"+str(height))\n",
    "    print(\"Width= \"+str(width))\n",
    "    print(\"Depth= \"+str(depth))#str():어떤 값을 문자열 갑으로 변환\n",
    "    return height*width*depth;\n",
    "\n",
    "\n",
    "print(findvolume(1,2,3))\n",
    "print(findvolume(2,1,3))\n",
    "print(findvolume(width=2,height=1,depth=3))\n",
    "print(findvolume(height=3))"
   ]
  }
 ],
 "metadata": {
  "kernelspec": {
   "display_name": "Python 3 (ipykernel)",
   "language": "python",
   "name": "python3"
  },
  "language_info": {
   "codemirror_mode": {
    "name": "ipython",
    "version": 3
   },
   "file_extension": ".py",
   "mimetype": "text/x-python",
   "name": "python",
   "nbconvert_exporter": "python",
   "pygments_lexer": "ipython3",
   "version": "3.8.8"
  }
 },
 "nbformat": 4,
 "nbformat_minor": 5
}

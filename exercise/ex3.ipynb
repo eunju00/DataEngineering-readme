{
 "cells": [
  {
   "cell_type": "code",
   "execution_count": 4,
   "id": "68b1df72-e524-4d51-88c0-709382a49539",
   "metadata": {},
   "outputs": [
    {
     "name": "stdout",
     "output_type": "stream",
     "text": [
      "[2, 3, 5, 7, 11]\n",
      "[]\n"
     ]
    }
   ],
   "source": [
    "#list\n",
    "\n",
    "primes = [2, 3, 5, 7, 11] #아이템의 중복이 가능하다\n",
    "print(primes)\n",
    "\n",
    "empty_list = []\n",
    "print(empty_list)"
   ]
  },
  {
   "cell_type": "code",
   "execution_count": 5,
   "id": "65d55d3e-5abf-4ba3-8d7b-822be399ac5d",
   "metadata": {},
   "outputs": [
    {
     "name": "stdout",
     "output_type": "stream",
     "text": [
      "['Jenny', 1, 2, ['a', 1]]\n"
     ]
    }
   ],
   "source": [
    "#여러 데이터타입의 아이템을 포함가능\n",
    "mixed = ['Jenny', 1, 2, ['a',1 ]] # 정수, 문자열 etc...\n",
    "print(mixed)"
   ]
  },
  {
   "cell_type": "code",
   "execution_count": 6,
   "id": "81707878-f212-45f8-9dd9-cca072f84fa2",
   "metadata": {},
   "outputs": [
    {
     "name": "stdout",
     "output_type": "stream",
     "text": [
      "1\n",
      "2\n",
      "3\n",
      "4\n",
      "5\n"
     ]
    }
   ],
   "source": [
    "\n",
    "#index 리스트의 특정 위치를 나타내는 정수\n",
    "\n",
    "numbers = [1, 2, 3, 4, 5]\n",
    "\n",
    "\"\"\"\n",
    "Zero-indexing\n",
    "\"\"\"\n",
    "print(numbers[0])\n",
    "print(numbers[1])\n",
    "print(numbers[2])\n",
    "print(numbers[3])\n",
    "print(numbers[4])"
   ]
  },
  {
   "cell_type": "code",
   "execution_count": 7,
   "id": "a09fb7e9-eb31-4dcb-94f2-bc2d222b67d4",
   "metadata": {},
   "outputs": [
    {
     "name": "stdout",
     "output_type": "stream",
     "text": [
      "5\n",
      "4\n",
      "3\n",
      "2\n",
      "1\n"
     ]
    }
   ],
   "source": [
    "\"\"\"\n",
    "Negative indexing\n",
    "가장 끝부터 \n",
    "\"\"\"\n",
    "print(numbers[-1])\n",
    "print(numbers[-2])\n",
    "print(numbers[-3])\n",
    "print(numbers[-4])\n",
    "print(numbers[-5])"
   ]
  },
  {
   "cell_type": "code",
   "execution_count": 8,
   "id": "24558eab-08c2-4413-bdc9-537d7a9908a1",
   "metadata": {},
   "outputs": [
    {
     "name": "stdout",
     "output_type": "stream",
     "text": [
      "[5, 3, 4]\n"
     ]
    }
   ],
   "source": [
    "#List Slicing\n",
    "\n",
    "Numbers =  [1, 2, 3, 4, 5]\n",
    "Number_slice = Numbers[1:4] # 시작 인덱스는 포함 끝나는 인덱스는 포함이 안됨!!\n",
    "Number_slice[0] = 5  #0번 인덱스의 value를 5로 바꿈\n",
    "print(Number_slice)"
   ]
  },
  {
   "cell_type": "code",
   "execution_count": 9,
   "id": "271e3e8d-fdaa-46b7-b1e1-3c793e420345",
   "metadata": {},
   "outputs": [
    {
     "name": "stdout",
     "output_type": "stream",
     "text": [
      "양식\n",
      "['해우리', '한식', '된장찌개']\n"
     ]
    }
   ],
   "source": [
    "#Multi-dimensional Lists\n",
    "\n",
    "restaurants = [['해우리', '한식', '김치찌개'], ['짜장명가', '중식', '자장면'],\n",
    "               ['찌동', '한식', '비빔밥'], ['맘터', '양식', '싸이버거']]\n",
    "\n",
    "print(restaurants[3][1])\n",
    "\n",
    "restaurants[0][2] = '된장찌개'\n",
    "print(restaurants[0])\n"
   ]
  },
  {
   "cell_type": "code",
   "execution_count": 10,
   "id": "8a646ed8-9bfa-41a4-8466-f4b850869416",
   "metadata": {},
   "outputs": [
    {
     "name": "stdout",
     "output_type": "stream",
     "text": [
      "[1, 2, 3, 4, 5, 6]\n"
     ]
    }
   ],
   "source": [
    "#리스트 합치기\n",
    "\n",
    "items_one = [1,2,3]\n",
    "items_two = [4,5,6]\n",
    "\n",
    "total = items_one + items_two\n",
    "print(total)"
   ]
  },
  {
   "cell_type": "code",
   "execution_count": 11,
   "id": "e77be9cd-8ff6-4e02-a341-69eb823ba06b",
   "metadata": {},
   "outputs": [
    {
     "name": "stdout",
     "output_type": "stream",
     "text": [
      "4\n",
      "2\n"
     ]
    }
   ],
   "source": [
    "#Useful Methods for Lists\n",
    "\n",
    "#len() \n",
    "list_one = [1,2,3,4]\n",
    "size = len(list_one)\n",
    "print(size)\n",
    "\n",
    "#count() 특정아이템의 개수\n",
    "list_two = ['o', 'x', 'o', 'x', 'x']\n",
    "numO = list_two.count('o')\n",
    "print(numO)"
   ]
  },
  {
   "cell_type": "code",
   "execution_count": 12,
   "id": "15770dad-8eb6-4358-a1df-61cdf343130b",
   "metadata": {},
   "outputs": [
    {
     "name": "stdout",
     "output_type": "stream",
     "text": [
      "['chicken', 'burger', 'pizza']\n",
      "[1, 2, 3, 4]\n",
      "[1, 2, 3, 4]\n",
      "[1, 2, 3]\n"
     ]
    },
    {
     "ename": "ValueError",
     "evalue": "list.remove(x): x not in list",
     "output_type": "error",
     "traceback": [
      "\u001b[0;31m---------------------------------------------------------------------------\u001b[0m",
      "\u001b[0;31mValueError\u001b[0m                                Traceback (most recent call last)",
      "\u001b[0;32m/var/folders/k0/hqjhdl490y9_s8p891116z8r0000gn/T/ipykernel_1652/2074632765.py\u001b[0m in \u001b[0;36m<module>\u001b[0;34m\u001b[0m\n\u001b[1;32m     18\u001b[0m \u001b[0;34m\u001b[0m\u001b[0m\n\u001b[1;32m     19\u001b[0m \u001b[0;31m#만약에 없는 인자를 제거한다면?\u001b[0m\u001b[0;34m\u001b[0m\u001b[0;34m\u001b[0m\u001b[0;34m\u001b[0m\u001b[0m\n\u001b[0;32m---> 20\u001b[0;31m \u001b[0mNums2\u001b[0m\u001b[0;34m.\u001b[0m\u001b[0mremove\u001b[0m\u001b[0;34m(\u001b[0m\u001b[0;36m5\u001b[0m\u001b[0;34m)\u001b[0m\u001b[0;34m\u001b[0m\u001b[0;34m\u001b[0m\u001b[0m\n\u001b[0m\u001b[1;32m     21\u001b[0m \u001b[0mprint\u001b[0m\u001b[0;34m(\u001b[0m\u001b[0mNums2\u001b[0m\u001b[0;34m)\u001b[0m\u001b[0;34m\u001b[0m\u001b[0;34m\u001b[0m\u001b[0m\n",
      "\u001b[0;31mValueError\u001b[0m: list.remove(x): x not in list"
     ]
    }
   ],
   "source": [
    "#apend() 아이템을 리스트의 끝에 추가\n",
    "orders = ['chicken', 'burger']\n",
    "orders.append('pizza')\n",
    "print(orders)\n",
    "\n",
    "#insert() 아이템을 리스트의 특정위치에 추가\n",
    "Nums = [1,3,4]\n",
    "Nums.insert(1 , 2) #(위치=인덱스, 추가 할 아이템) \n",
    "print(Nums)\n",
    "\n",
    "#pop() 특정위치의 아이템을 삭제\n",
    "Nums2 = [1,2,3,4,4]\n",
    "Nums2.pop(3) # 인덱스 3번\n",
    "print(Nums2)\n",
    "\n",
    "Nums2.remove(4)\n",
    "print(Nums2)\n",
    "\n",
    "#만약에 없는 인자를 제거한다면?\n",
    "Nums2.remove(5)\n",
    "print(Nums2)"
   ]
  },
  {
   "cell_type": "code",
   "execution_count": 13,
   "id": "bc6c7771-7393-448b-bbcc-ed6f72f54a84",
   "metadata": {},
   "outputs": [
    {
     "name": "stdout",
     "output_type": "stream",
     "text": [
      "[1, 2, 3, 4]\n",
      "[1, 2, 3, 4]\n"
     ]
    }
   ],
   "source": [
    "#sort() 문자든 숫자든 오름차순으로 정렬한다\n",
    "numbers = [4, 2, 1, 3]\n",
    "numbers.sort()\n",
    "print(numbers)\n",
    "sorted_numbers = sorted(numbers)\n",
    "print(sorted_numbers)"
   ]
  }
 ],
 "metadata": {
  "kernelspec": {
   "display_name": "Python 3 (ipykernel)",
   "language": "python",
   "name": "python3"
  },
  "language_info": {
   "codemirror_mode": {
    "name": "ipython",
    "version": 3
   },
   "file_extension": ".py",
   "mimetype": "text/x-python",
   "name": "python",
   "nbconvert_exporter": "python",
   "pygments_lexer": "ipython3",
   "version": "3.8.8"
  }
 },
 "nbformat": 4,
 "nbformat_minor": 5
}

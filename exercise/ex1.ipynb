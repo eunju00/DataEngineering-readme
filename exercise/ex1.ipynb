{
 "cells": [
  {
   "cell_type": "code",
   "execution_count": 7,
   "id": "19ae9bba-a17a-40ae-8a2b-8236fbf4edc3",
   "metadata": {},
   "outputs": [
    {
     "name": "stdout",
     "output_type": "stream",
     "text": [
      "Hello World\n",
      "777\n",
      "3.14\n",
      "my name is Park Eun Ju!\n"
     ]
    }
   ],
   "source": [
    "\"\"\"\n",
    "주석\n",
    "파이썬에서는 변수를 객체로써 다룬다\n",
    "\"\"\"\n",
    "print(\"Hello World\")\n",
    "print(777)\n",
    "pi = 3.14\n",
    "print(pi)\n",
    "\n",
    "intro = \"my name is \"\n",
    "name = \"Park Eun Ju\"\n",
    "print(intro + name + \"!\")"
   ]
  },
  {
   "cell_type": "code",
   "execution_count": 8,
   "id": "bfa4e72c-6a37-47a8-8f5b-cc5a7f68cc34",
   "metadata": {},
   "outputs": [
    {
     "name": "stdout",
     "output_type": "stream",
     "text": [
      "True\n"
     ]
    }
   ],
   "source": [
    "\"\"\"\n",
    "Variables\n",
    "\"\"\"\n",
    "user_name = \"Park Eun Ju\"\n",
    "user_age = 22\n",
    "user_grade = \"sophomore\"\n",
    "is_student = True\n",
    "\n",
    "print(is_student)"
   ]
  },
  {
   "cell_type": "code",
   "execution_count": 9,
   "id": "bb218415-cbd5-4258-a50c-c96bc29c99d7",
   "metadata": {},
   "outputs": [
    {
     "name": "stdout",
     "output_type": "stream",
     "text": [
      "x =  1\n",
      "address is =  4301490528\n"
     ]
    }
   ],
   "source": [
    "\"\"\"\n",
    "Assignment\n",
    "\"\"\"\n",
    "\n",
    "x = 1\n",
    "print('x = ', x)\n",
    "print(\"address is = \", id(x))"
   ]
  },
  {
   "cell_type": "code",
   "execution_count": 10,
   "id": "bc184f4d-285b-4bb4-9e62-d276f1a69975",
   "metadata": {},
   "outputs": [
    {
     "name": "stdout",
     "output_type": "stream",
     "text": [
      "BlueChickenHouse\n"
     ]
    }
   ],
   "source": [
    "\"\"\"\n",
    "Data Type : Integers\n",
    "\"\"\"\n",
    "Sofa = 4\n",
    "Pet = 0\n",
    "Tv = 1\n",
    "\n",
    "\"\"\"\n",
    "Data Type : Real Numbers\n",
    "\"\"\"\n",
    "pi = 3.14\n",
    "Tall = 182.5\n",
    "Temperature = 24.5\n",
    "\n",
    "\"\"\"\n",
    "Data Type : Strings\n",
    "\"\"\"\n",
    "favorite_color = \"Blue\"\n",
    "favorite_food = \"Chicken\"\n",
    "favorite_place =\"House\"\n",
    "\n",
    "favorites =favorite_color + favorite_food + favorite_place\n",
    "print(favorites)"
   ]
  },
  {
   "cell_type": "code",
   "execution_count": 11,
   "id": "bc81ae4a-1751-4084-bc87-7936bfe4c22f",
   "metadata": {},
   "outputs": [
    {
     "name": "stdout",
     "output_type": "stream",
     "text": [
      "10\n",
      "one two three\n",
      "6\n",
      "8\n"
     ]
    }
   ],
   "source": [
    "a = 0\n",
    "a += 10 \n",
    "print (a)\n",
    "\n",
    "message = \"one \"\n",
    "message += \"two three\"\n",
    "print(message)\n",
    "\n",
    "a = 2\n",
    "a *= 3\n",
    "print(a)\n",
    "b = 2\n",
    "b **= 3\n",
    "print(b)"
   ]
  }
 ],
 "metadata": {
  "kernelspec": {
   "display_name": "Python 3 (ipykernel)",
   "language": "python",
   "name": "python3"
  },
  "language_info": {
   "codemirror_mode": {
    "name": "ipython",
    "version": 3
   },
   "file_extension": ".py",
   "mimetype": "text/x-python",
   "name": "python",
   "nbconvert_exporter": "python",
   "pygments_lexer": "ipython3",
   "version": "3.8.8"
  }
 },
 "nbformat": 4,
 "nbformat_minor": 5
}

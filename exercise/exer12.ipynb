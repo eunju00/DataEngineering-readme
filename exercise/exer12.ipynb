{
 "cells": [
  {
   "cell_type": "code",
   "execution_count": 1,
   "id": "64305bda-4cde-41af-8901-f15b8e662a33",
   "metadata": {},
   "outputs": [
    {
     "name": "stdout",
     "output_type": "stream",
     "text": [
      "2021-10-27 00:00:00\n"
     ]
    }
   ],
   "source": [
    "\"\"\"\n",
    "Native Python dates and times\n",
    "\"\"\"\n",
    "from datetime import datetime\n",
    "\n",
    "t = datetime(year=2021,month=10,day=27)\n",
    "print(t)"
   ]
  },
  {
   "cell_type": "code",
   "execution_count": 2,
   "id": "7bcc09ce-dd0d-4313-ae2b-b1f3e13343ad",
   "metadata": {},
   "outputs": [
    {
     "name": "stdout",
     "output_type": "stream",
     "text": [
      "2021-10-26 00:00:00\n"
     ]
    }
   ],
   "source": [
    "from dateutil import parser\n",
    "\n",
    "date = parser.parse(\"26Th of October, 2021\")\n",
    "print(date)"
   ]
  },
  {
   "cell_type": "code",
   "execution_count": 3,
   "id": "7535e19b-172e-4a9b-be94-2f5a604969ee",
   "metadata": {},
   "outputs": [
    {
     "data": {
      "text/plain": [
       "'Wednesday'"
      ]
     },
     "execution_count": 3,
     "metadata": {},
     "output_type": "execute_result"
    }
   ],
   "source": [
    "t.strftime('%A')"
   ]
  },
  {
   "cell_type": "code",
   "execution_count": 4,
   "id": "46f61303-c3bc-496d-9f2a-b44d57de0c33",
   "metadata": {},
   "outputs": [
    {
     "data": {
      "text/plain": [
       "numpy.datetime64"
      ]
     },
     "execution_count": 4,
     "metadata": {},
     "output_type": "execute_result"
    }
   ],
   "source": [
    "\"\"\"\n",
    "Types Arrays of Times: Numpy's datettime64\n",
    "\"\"\"\n",
    "\n",
    "import numpy as np\n",
    "date = np.array(['2021-10-27'],dtype=np.datetime64)\n",
    "type(date[0])"
   ]
  },
  {
   "cell_type": "code",
   "execution_count": 5,
   "id": "1ac8d656-f19c-4c8e-b5c1-89bdadeb504a",
   "metadata": {},
   "outputs": [
    {
     "data": {
      "text/plain": [
       "array(['2021-10-27', '2021-10-28', '2021-10-29', '2021-10-30',\n",
       "       '2021-10-31', '2021-11-01', '2021-11-02'], dtype='datetime64[D]')"
      ]
     },
     "execution_count": 5,
     "metadata": {},
     "output_type": "execute_result"
    }
   ],
   "source": [
    "date + np.arange(7)"
   ]
  },
  {
   "cell_type": "code",
   "execution_count": 6,
   "id": "a64336be-464e-4a98-b643-33aa42d0a4e3",
   "metadata": {},
   "outputs": [
    {
     "name": "stdout",
     "output_type": "stream",
     "text": [
      "2021-10-27T13:47\n"
     ]
    }
   ],
   "source": [
    "t = np.datetime64('2021-10-27 13:47')\n",
    "print(t)"
   ]
  },
  {
   "cell_type": "code",
   "execution_count": 7,
   "id": "842e35c5-4441-403c-9706-cdac0f7c3d4d",
   "metadata": {},
   "outputs": [
    {
     "name": "stdout",
     "output_type": "stream",
     "text": [
      "2021-10-27T13:47:10.000000000\n"
     ]
    }
   ],
   "source": [
    "t = np.datetime64('2021-10-27 13:47:10.00' ,'ns')\n",
    "print(t)\n"
   ]
  },
  {
   "cell_type": "code",
   "execution_count": 8,
   "id": "df2d5330-6fce-41c1-8403-5e7d5e05298a",
   "metadata": {},
   "outputs": [
    {
     "data": {
      "text/plain": [
       "DatetimeIndex([          '2021-10-27 00:00:00',\n",
       "               '2021-10-27 00:00:00.000000001',\n",
       "               '2021-10-27 00:00:00.000000002',\n",
       "               '2021-10-27 00:00:00.000000003',\n",
       "               '2021-10-27 00:00:00.000000004',\n",
       "               '2021-10-27 00:00:00.000000005',\n",
       "               '2021-10-27 00:00:00.000000006'],\n",
       "              dtype='datetime64[ns]', freq=None)"
      ]
     },
     "execution_count": 8,
     "metadata": {},
     "output_type": "execute_result"
    }
   ],
   "source": [
    "import pandas as pd\n",
    "\n",
    "date = pd.to_datetime(\"27th of October, 2021\")\n",
    "\n",
    "date + pd.to_timedelta(np.arange(7))"
   ]
  },
  {
   "cell_type": "code",
   "execution_count": 9,
   "id": "e93a7320-c6d6-4f53-a991-733a8e2989d3",
   "metadata": {},
   "outputs": [
    {
     "name": "stdout",
     "output_type": "stream",
     "text": [
      "2021-10-27    0\n",
      "2021-10-28    1\n",
      "2021-10-29    2\n",
      "2021-10-30    3\n",
      "2021-10-31    4\n",
      "2021-11-01    5\n",
      "2021-11-02    6\n",
      "dtype: int64\n"
     ]
    }
   ],
   "source": [
    "ind = pd.DatetimeIndex(['2021-10-27', '2021-10-28', '2021-10-29', '2021-10-30',\n",
    "'2021-10-31', '2021-11-01', '2021-11-02'])\n",
    "\n",
    "ser = pd.Series([0,1,2,3,4,5,6], index=ind)\n",
    "print(ser)"
   ]
  },
  {
   "cell_type": "code",
   "execution_count": 10,
   "id": "856d8a55-ab14-4e27-a418-8c37e577b5da",
   "metadata": {},
   "outputs": [
    {
     "data": {
      "text/plain": [
       "2021-10-27    0\n",
       "2021-10-28    1\n",
       "2021-10-29    2\n",
       "2021-10-30    3\n",
       "2021-10-31    4\n",
       "dtype: int64"
      ]
     },
     "execution_count": 10,
     "metadata": {},
     "output_type": "execute_result"
    }
   ],
   "source": [
    "ser['2021-10-27':'2021-10-31']\n"
   ]
  },
  {
   "cell_type": "code",
   "execution_count": 11,
   "id": "ca65ec8e-0774-4c93-98ab-c45372786f41",
   "metadata": {},
   "outputs": [
    {
     "data": {
      "text/plain": [
       "2021-11-01    5\n",
       "2021-11-02    6\n",
       "dtype: int64"
      ]
     },
     "execution_count": 11,
     "metadata": {},
     "output_type": "execute_result"
    }
   ],
   "source": [
    "ser['2021-11']\n"
   ]
  },
  {
   "cell_type": "code",
   "execution_count": 12,
   "id": "b5187020-5574-4e19-bab6-7d2664fea3b2",
   "metadata": {},
   "outputs": [
    {
     "name": "stdout",
     "output_type": "stream",
     "text": [
      "DatetimeIndex(['2015-07-03', '2015-07-04', '2015-07-06', '2015-07-07',\n",
      "               '2015-07-08'],\n",
      "              dtype='datetime64[ns]', freq=None)\n"
     ]
    }
   ],
   "source": [
    "dates = pd.to_datetime([datetime(2015,7,3),\"4th of July,2015\",'2015-Jul-6',\n",
    "                       '07-07-2015','20150708'])\n",
    "print(dates)"
   ]
  },
  {
   "cell_type": "code",
   "execution_count": 13,
   "id": "0b0bf7c7-ecbd-471e-a26d-7b2a04810347",
   "metadata": {},
   "outputs": [
    {
     "name": "stdout",
     "output_type": "stream",
     "text": [
      "PeriodIndex(['2015-06-29/2015-07-05', '2015-06-29/2015-07-05',\n",
      "             '2015-07-06/2015-07-12', '2015-07-06/2015-07-12',\n",
      "             '2015-07-06/2015-07-12'],\n",
      "            dtype='period[W-SUN]')\n"
     ]
    }
   ],
   "source": [
    "print(dates.to_period('W'))\n"
   ]
  },
  {
   "cell_type": "code",
   "execution_count": 14,
   "id": "912588d4-89a1-4116-beb5-e396b6ad1b6c",
   "metadata": {},
   "outputs": [
    {
     "data": {
      "text/plain": [
       "TimedeltaIndex(['0 days', '1 days', '3 days', '4 days', '5 days'], dtype='timedelta64[ns]', freq=None)"
      ]
     },
     "execution_count": 14,
     "metadata": {},
     "output_type": "execute_result"
    }
   ],
   "source": [
    "dates- dates[0]\n"
   ]
  },
  {
   "cell_type": "code",
   "execution_count": 15,
   "id": "835f2001-0d74-4a9a-a940-9c59ac2599f9",
   "metadata": {},
   "outputs": [
    {
     "data": {
      "text/plain": [
       "DatetimeIndex(['2021-10-27', '2021-10-28', '2021-10-29', '2021-10-30',\n",
       "               '2021-10-31'],\n",
       "              dtype='datetime64[ns]', freq='D')"
      ]
     },
     "execution_count": 15,
     "metadata": {},
     "output_type": "execute_result"
    }
   ],
   "source": [
    "pd.date_range('2021-10-27','2021-10-31')\n"
   ]
  },
  {
   "cell_type": "code",
   "execution_count": 16,
   "id": "b0d256b7-b295-4980-9bdc-0c821d300d79",
   "metadata": {},
   "outputs": [
    {
     "data": {
      "text/plain": [
       "DatetimeIndex(['2021-10-31', '2021-11-07', '2021-11-14', '2021-11-21',\n",
       "               '2021-11-28'],\n",
       "              dtype='datetime64[ns]', freq='W-SUN')"
      ]
     },
     "execution_count": 16,
     "metadata": {},
     "output_type": "execute_result"
    }
   ],
   "source": [
    "pd.date_range('2021-10-27',periods=5,freq='w')"
   ]
  }
 ],
 "metadata": {
  "kernelspec": {
   "display_name": "Python 3 (ipykernel)",
   "language": "python",
   "name": "python3"
  },
  "language_info": {
   "codemirror_mode": {
    "name": "ipython",
    "version": 3
   },
   "file_extension": ".py",
   "mimetype": "text/x-python",
   "name": "python",
   "nbconvert_exporter": "python",
   "pygments_lexer": "ipython3",
   "version": "3.8.8"
  }
 },
 "nbformat": 4,
 "nbformat_minor": 5
}

{
 "cells": [
  {
   "cell_type": "code",
   "execution_count": 1,
   "id": "86806be3-2def-4988-b804-06c892022a2e",
   "metadata": {},
   "outputs": [
    {
     "name": "stdout",
     "output_type": "stream",
     "text": [
      "2\n",
      "2\n",
      "3\n"
     ]
    }
   ],
   "source": [
    "#Function Vs Method\n",
    "\n",
    "def my_function(x):\n",
    "    return x + 1\n",
    "\n",
    "print(my_function(1))\n",
    "\n",
    "y = 1\n",
    "print(my_function(y))\n",
    "\n",
    "# method : 클래스 내에 정의된 함수\n",
    "\n",
    "class my_class: \n",
    "    def my_method(self):\n",
    "        return x + 1\n",
    "    \n",
    "cls = my_class()\n",
    "x=2\n",
    "print(cls.my_method())\n"
   ]
  },
  {
   "cell_type": "code",
   "execution_count": 3,
   "id": "6e1c4e15-1610-40ef-8b70-ddc54c7bf907",
   "metadata": {},
   "outputs": [
    {
     "name": "stdout",
     "output_type": "stream",
     "text": [
      "My name is Park Eun Ju, I am 22 and I live in HwaSeong\n"
     ]
    }
   ],
   "source": [
    "def introduce_myself(name, age , city):\n",
    "    print(\"My name is %s, I am %s and I live in %s\" %(name, age, city))\n",
    "\n",
    "introduce_myself(\"Park Eun Ju\", 22, \"HwaSeong\")"
   ]
  },
  {
   "cell_type": "code",
   "execution_count": 4,
   "id": "1639b282-0d6a-4f2d-b7f7-dc372812e751",
   "metadata": {},
   "outputs": [
    {
     "name": "stdout",
     "output_type": "stream",
     "text": [
      "2021 is not a leap year.\n"
     ]
    }
   ],
   "source": [
    "#return Keyword\n",
    "\n",
    "def check_leap_year(year):\n",
    "    if year % 4 == 0:\n",
    "        return str(year) + \" is a leap year.\"\n",
    "    else:\n",
    "        return str(year) + \" is not a leap year.\"\n",
    "    \n",
    "result = check_leap_year(2021)\n",
    "print(result)"
   ]
  },
  {
   "cell_type": "code",
   "execution_count": 6,
   "id": "5388c8f2-974e-4bce-821e-78b658d88b21",
   "metadata": {},
   "outputs": [
    {
     "name": "stdout",
     "output_type": "stream",
     "text": [
      "9 16 25\n"
     ]
    }
   ],
   "source": [
    "#Returning Multiple Values\n",
    "\n",
    "def square_point(x, y, z):\n",
    "    x_squared = x ** 2\n",
    "    y_squared = y ** 2\n",
    "    z_squared = z ** 2\n",
    "    return x_squared, y_squared, z_squared\n",
    "\n",
    "three_squared, four_squared, five_squared = square_point(3, 4, 5)\n",
    "\n",
    "print(three_squared, four_squared, five_squared)\n"
   ]
  },
  {
   "cell_type": "code",
   "execution_count": 7,
   "id": "6ff58ac0-81e9-4f8c-a2f9-725bc8ab274f",
   "metadata": {},
   "outputs": [
    {
     "name": "stdout",
     "output_type": "stream",
     "text": [
      "Hello\n"
     ]
    }
   ],
   "source": [
    "#Global Variables 선언위치에 따라 전역변수와 지역변수로 나뉨\n",
    "\n",
    "#전역변수 : 함수 밖에서 정의된 변수 \n",
    "\n",
    "a = \"Hello\"\n",
    "\n",
    "def prints_a():\n",
    "    print(a)\n",
    "    \n",
    "prints_a()"
   ]
  },
  {
   "cell_type": "code",
   "execution_count": 8,
   "id": "7b456310-74ea-4675-a106-584321ab866d",
   "metadata": {},
   "outputs": [
    {
     "name": "stdout",
     "output_type": "stream",
     "text": [
      "Hello\n"
     ]
    },
    {
     "ename": "NameError",
     "evalue": "name 'b' is not defined",
     "output_type": "error",
     "traceback": [
      "\u001b[0;31m---------------------------------------------------------------------------\u001b[0m",
      "\u001b[0;31mNameError\u001b[0m                                 Traceback (most recent call last)",
      "\u001b[0;32m/var/folders/k0/hqjhdl490y9_s8p891116z8r0000gn/T/ipykernel_1703/442751551.py\u001b[0m in \u001b[0;36m<module>\u001b[0;34m\u001b[0m\n\u001b[1;32m      8\u001b[0m \u001b[0;34m\u001b[0m\u001b[0m\n\u001b[1;32m      9\u001b[0m \u001b[0mprints_a\u001b[0m\u001b[0;34m(\u001b[0m\u001b[0;34m)\u001b[0m\u001b[0;34m\u001b[0m\u001b[0;34m\u001b[0m\u001b[0m\n\u001b[0;32m---> 10\u001b[0;31m \u001b[0mprint\u001b[0m\u001b[0;34m(\u001b[0m\u001b[0mb\u001b[0m\u001b[0;34m)\u001b[0m \u001b[0;31m#함수안에서 정의된 변수이기에 오류가 남\u001b[0m\u001b[0;34m\u001b[0m\u001b[0;34m\u001b[0m\u001b[0m\n\u001b[0m",
      "\u001b[0;31mNameError\u001b[0m: name 'b' is not defined"
     ]
    }
   ],
   "source": [
    "#지역변수: 함수 안에서 정의된 변수\n",
    "\n",
    "\n",
    "\n",
    "def prints_b():\n",
    "    b = \"Hello\"\n",
    "    print(b)\n",
    "    \n",
    "prints_a()\n",
    "print(b) #함수안에서 정의된 변수이기에 오류가 남"
   ]
  },
  {
   "cell_type": "code",
   "execution_count": 9,
   "id": "e8129afd-6fe6-442b-8b1d-ee4db63445e7",
   "metadata": {},
   "outputs": [
    {
     "name": "stdout",
     "output_type": "stream",
     "text": [
      "2\n"
     ]
    }
   ],
   "source": [
    "a = 5 #전역변수\n",
    "\n",
    "def f1():\n",
    "    a = 2 # 지역변수\n",
    "    print(a)\n",
    "    \n",
    "f1() # 같은 이름의 변수가 전부있으면 지역변수를 우선참조한다"
   ]
  },
  {
   "cell_type": "code",
   "execution_count": 10,
   "id": "7381b915-42b0-420d-9fa9-af303f17196f",
   "metadata": {},
   "outputs": [
    {
     "name": "stdout",
     "output_type": "stream",
     "text": [
      "h = 1\n",
      "w = 2\n",
      "d = 3\n",
      "6\n",
      "h = 2\n",
      "w = 1\n",
      "d = 3\n",
      "6\n",
      "h = 1\n",
      "w = 2\n",
      "d = 3\n",
      "6\n"
     ]
    }
   ],
   "source": [
    "#Keyword Arguments and Default Values\n",
    "\n",
    "def findvolume(h,w,d):\n",
    "    print(\"h = \" + str(h))\n",
    "    print(\"w = \" + str(w))\n",
    "    print(\"d = \" + str(d))\n",
    "    return h * w * d\n",
    "\n",
    "print(findvolume(1,2,3))\n",
    "print(findvolume(2,1,3)) # 결과값은 같지만 인자값 입력 순서 오류\n",
    "print(findvolume(w =2, h=1, d=3))"
   ]
  }
 ],
 "metadata": {
  "kernelspec": {
   "display_name": "Python 3 (ipykernel)",
   "language": "python",
   "name": "python3"
  },
  "language_info": {
   "codemirror_mode": {
    "name": "ipython",
    "version": 3
   },
   "file_extension": ".py",
   "mimetype": "text/x-python",
   "name": "python",
   "nbconvert_exporter": "python",
   "pygments_lexer": "ipython3",
   "version": "3.8.8"
  }
 },
 "nbformat": 4,
 "nbformat_minor": 5
}

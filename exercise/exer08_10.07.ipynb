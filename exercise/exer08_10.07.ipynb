{
 "cells": [
  {
   "cell_type": "code",
   "execution_count": 1,
   "id": "b7ab4b36-ccc1-4b8b-9478-7739b7724215",
   "metadata": {},
   "outputs": [],
   "source": [
    "import numpy as np"
   ]
  },
  {
   "cell_type": "code",
   "execution_count": 2,
   "id": "c9258108-af24-452d-89b8-920dd66c631d",
   "metadata": {},
   "outputs": [
    {
     "name": "stdout",
     "output_type": "stream",
     "text": [
      "[2 4 8 4 7]\n"
     ]
    }
   ],
   "source": [
    "def compute_reciprocals(values):\n",
    "    output=np.empty(len(values))\n",
    "    for i in range(len(values)):\n",
    "        output[i]=1.0/values[i]\n",
    "    return output\n",
    "\n",
    "values=np.random.randint(1,10,size=5)\n",
    "print(values)"
   ]
  },
  {
   "cell_type": "code",
   "execution_count": 3,
   "id": "60d2839c-415c-45a5-8726-213f96eb5236",
   "metadata": {},
   "outputs": [
    {
     "name": "stdout",
     "output_type": "stream",
     "text": [
      "1.59 s ± 4.36 ms per loop (mean ± std. dev. of 7 runs, 1 loop each)\n"
     ]
    }
   ],
   "source": [
    "big_array=np.random.randint(1,100,size=1000000)\n",
    "#해당코드를 여러번 실행시켜줌\n",
    "%timeit compute_reciprocals(big_array)"
   ]
  },
  {
   "cell_type": "code",
   "execution_count": 4,
   "id": "5685dbac-5514-4309-a7ef-d28f2302afae",
   "metadata": {},
   "outputs": [
    {
     "name": "stdout",
     "output_type": "stream",
     "text": [
      "629 µs ± 4.4 µs per loop (mean ± std. dev. of 7 runs, 1000 loops each)\n"
     ]
    }
   ],
   "source": [
    "%timeit 1/big_array"
   ]
  },
  {
   "cell_type": "code",
   "execution_count": 5,
   "id": "40c063a0-5044-4b0a-b34f-328a1663dbfa",
   "metadata": {},
   "outputs": [
    {
     "name": "stdout",
     "output_type": "stream",
     "text": [
      "[5 8 9 5 0] [0 1 7 6 9]\n",
      "[ 3  6  7  3 -2] [0 1 7 6 9]\n",
      "[ 3  7 14  9  7]\n",
      "[[2 4 5 2 4]\n",
      " [2 4 7 7 9]\n",
      " [1 7 0 6 9]]\n",
      "[[ 4 16 25  4 16]\n",
      " [ 4 16 49 49 81]\n",
      " [ 1 49  0 36 81]]\n"
     ]
    }
   ],
   "source": [
    "np.random.seed(1)\n",
    "arr1=np.random.randint(10,size=5)\n",
    "arr2=np.random.randint(10,size=5)\n",
    "print(arr1,arr2)\n",
    "\n",
    "arr1=arr1-2\n",
    "print(arr1,arr2)\n",
    "\n",
    "arr3=arr1+arr2\n",
    "print(arr3)\n",
    "\n",
    "arr4=np.random.randint(10,size=(3,5))\n",
    "print(arr4)\n",
    "\n",
    "arr5=arr4**2\n",
    "print(arr5)"
   ]
  },
  {
   "cell_type": "code",
   "execution_count": 6,
   "id": "5f2d8317-c7aa-4864-9627-2a86a2ed0460",
   "metadata": {},
   "outputs": [
    {
     "data": {
      "text/plain": [
       "array([2, 1, 0, 1, 2])"
      ]
     },
     "execution_count": 6,
     "metadata": {},
     "output_type": "execute_result"
    }
   ],
   "source": [
    "x=np.array([-2,-1,0,1,2])\n",
    "np.abs(x)"
   ]
  },
  {
   "cell_type": "code",
   "execution_count": 7,
   "id": "d9516255-ca5e-4dfd-9e26-cd50f27eb94f",
   "metadata": {},
   "outputs": [
    {
     "data": {
      "text/plain": [
       "array([5., 5., 2., 1.])"
      ]
     },
     "execution_count": 7,
     "metadata": {},
     "output_type": "execute_result"
    }
   ],
   "source": [
    "x=np.array([3-4j,4-3j,2+0j,0+1j])\n",
    "np.abs(x)"
   ]
  },
  {
   "cell_type": "code",
   "execution_count": 8,
   "id": "6f907ac2-c4ee-4491-bd69-8e57a4aeb15d",
   "metadata": {},
   "outputs": [
    {
     "name": "stdout",
     "output_type": "stream",
     "text": [
      "[1.         2.07079633 3.14159265]\n",
      "[8.41470985e-01 8.77582562e-01 1.22464680e-16]\n",
      "[ 0.54030231 -0.47942554 -1.        ]\n",
      "[ 1.55740772e+00 -1.83048772e+00 -1.22464680e-16]\n",
      "[  0.  10.  20.  30.  40.  50.  60.  70.  80.  90. 100.]\n"
     ]
    }
   ],
   "source": [
    "theta=np.linspace(1,np.pi,3)\n",
    "print(theta)\n",
    "print(np.sin(theta))\n",
    "print(np.cos(theta))\n",
    "print(np.tan(theta))\n",
    "\n",
    "x=np.linspace(0,100,11)\n",
    "print(x)\n"
   ]
  },
  {
   "cell_type": "code",
   "execution_count": 9,
   "id": "a911cc39-34c5-4d99-8bfc-b4c15c0751e7",
   "metadata": {},
   "outputs": [
    {
     "name": "stdout",
     "output_type": "stream",
     "text": [
      "10\n",
      "24\n"
     ]
    }
   ],
   "source": [
    "x=np.arange(1,5)\n",
    "aggr=np.add.reduce(x)\n",
    "print(aggr)\n",
    "aggr=np.multiply.reduce(x)\n",
    "print(aggr)\n"
   ]
  },
  {
   "cell_type": "code",
   "execution_count": 10,
   "id": "66289b54-2192-4e4f-afe2-b7b15710d54b",
   "metadata": {},
   "outputs": [
    {
     "name": "stdout",
     "output_type": "stream",
     "text": [
      "[1 2 3 4]\n",
      "[ 1  3  6 10]\n",
      "[ 1  2  6 24]\n"
     ]
    }
   ],
   "source": [
    "x=np.arange(1,5)\n",
    "print(x)\n",
    "accum=np.add.accumulate(x)\n",
    "print(accum)\n",
    "accum=np.multiply.accumulate(x)\n",
    "print(accum)"
   ]
  },
  {
   "cell_type": "code",
   "execution_count": 11,
   "id": "188f443b-bd2e-4ed4-a36c-a2e13a0dbd17",
   "metadata": {},
   "outputs": [
    {
     "name": "stdout",
     "output_type": "stream",
     "text": [
      "[4.17022005e-01 7.20324493e-01 1.14374817e-04 ... 4.93233752e-01\n",
      " 1.08809709e-01 3.70251829e-01]\n"
     ]
    },
    {
     "data": {
      "text/plain": [
       "499948.2541286655"
      ]
     },
     "execution_count": 11,
     "metadata": {},
     "output_type": "execute_result"
    }
   ],
   "source": [
    "np.random.seed(1)\n",
    "arr=np.random.rand(1000000)\n",
    "print(arr)\n",
    "np.sum(arr)\n"
   ]
  },
  {
   "cell_type": "code",
   "execution_count": 12,
   "id": "5db632e5-1dda-4bb0-9147-72c80e5f6a26",
   "metadata": {},
   "outputs": [
    {
     "name": "stdout",
     "output_type": "stream",
     "text": [
      "74.8 ms ± 211 µs per loop (mean ± std. dev. of 7 runs, 10 loops each)\n"
     ]
    }
   ],
   "source": [
    "%timeit sum(arr)"
   ]
  },
  {
   "cell_type": "code",
   "execution_count": 13,
   "id": "6983aa13-fa09-4f43-875c-67e352a3a4bc",
   "metadata": {},
   "outputs": [
    {
     "name": "stdout",
     "output_type": "stream",
     "text": [
      "201 µs ± 2.05 µs per loop (mean ± std. dev. of 7 runs, 1000 loops each)\n"
     ]
    }
   ],
   "source": [
    "%timeit np.sum(arr)"
   ]
  },
  {
   "cell_type": "code",
   "execution_count": 14,
   "id": "8089fbb6-ca9d-4994-91ce-41bb4fc896b0",
   "metadata": {},
   "outputs": [
    {
     "name": "stdout",
     "output_type": "stream",
     "text": [
      "0.9999995556201814\n",
      "3.0077687129814734e-07\n",
      "0.4999482541286655\n",
      "0.500166468682165\n",
      "0.899807132583175\n",
      "False\n",
      "True\n"
     ]
    }
   ],
   "source": [
    "print(np.max(arr))\n",
    "print(np.min(arr))\n",
    "print(np.mean(arr))\n",
    "print(np.median(arr))\n",
    "print(np.percentile(arr,90))\n",
    "\n",
    "print(np.any(arr>1))\n",
    "print(np.all(arr>0))"
   ]
  },
  {
   "cell_type": "code",
   "execution_count": 15,
   "id": "9f0a0c8e-ed1a-4421-a3cf-160aded51242",
   "metadata": {},
   "outputs": [
    {
     "name": "stdout",
     "output_type": "stream",
     "text": [
      "[[3 6 6 0]\n",
      " [9 8 4 7]\n",
      " [0 0 7 1]]\n",
      "[12 14 17  8]\n",
      "[15 28  8]\n"
     ]
    }
   ],
   "source": [
    "np.random.seed(5)\n",
    "arr=np.random.randint(10,size=(3,4))\n",
    "print(arr)\n",
    "\n",
    "print(np.sum(arr,axis=0))\n",
    "print(np.sum(arr,axis=1))"
   ]
  }
 ],
 "metadata": {
  "kernelspec": {
   "display_name": "Python 3 (ipykernel)",
   "language": "python",
   "name": "python3"
  },
  "language_info": {
   "codemirror_mode": {
    "name": "ipython",
    "version": 3
   },
   "file_extension": ".py",
   "mimetype": "text/x-python",
   "name": "python",
   "nbconvert_exporter": "python",
   "pygments_lexer": "ipython3",
   "version": "3.8.8"
  }
 },
 "nbformat": 4,
 "nbformat_minor": 5
}

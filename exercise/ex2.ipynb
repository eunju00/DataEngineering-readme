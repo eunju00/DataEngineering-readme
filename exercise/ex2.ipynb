{
 "cells": [
  {
   "cell_type": "code",
   "execution_count": 1,
   "id": "4f07d604-f4ae-44c4-9eb4-95fc488069b4",
   "metadata": {},
   "outputs": [
    {
     "name": "stdout",
     "output_type": "stream",
     "text": [
      "True\n",
      "True\n",
      "False\n"
     ]
    }
   ],
   "source": [
    "#Equal Operator == 같을경우 True 같지않을 경우 False\n",
    "print(\"Yes\" == \"Yes\")\n",
    "print((2>1) == (5<10))\n",
    "c= '2'\n",
    "d = 2\n",
    "print(c==d)"
   ]
  },
  {
   "cell_type": "code",
   "execution_count": 3,
   "id": "546aa262-5047-4f68-a3c6-d8f0d23c0591",
   "metadata": {},
   "outputs": [
    {
     "name": "stdout",
     "output_type": "stream",
     "text": [
      "False\n",
      "True\n"
     ]
    }
   ],
   "source": [
    "#Not Equals Operator != 같을경우 False 같지않을경우 True\n",
    "print(\"Yes\" != \"Yes\")\n",
    "print(\"Yes\" != \"No\")\n",
    "\n",
    "# and Operator A,B 모두 True 인경우 True 그외 False\n",
    "# Not 연산 반대로 하면됨"
   ]
  },
  {
   "cell_type": "code",
   "execution_count": 4,
   "id": "80e0dd31-f5de-4af7-9172-e8a3d4ccee8b",
   "metadata": {},
   "outputs": [
    {
     "name": "stdout",
     "output_type": "stream",
     "text": [
      "이건 말티푸야\n",
      "True\n"
     ]
    }
   ],
   "source": [
    "\"\"\"조건문 \n",
    "True : 코드실행\n",
    "False : 코드 실행x\n",
    "조건문 유형 if/elif(=else if)/else\n",
    "\"\"\"\n",
    "\n",
    "puppy = \"maltepoo\"\n",
    "is_yes = \"False\"\n",
    "\n",
    "if  puppy == \"maltese\":\n",
    "    print(\"말티즈\")\n",
    "    is_yes = True\n",
    "                \n",
    "elif puppy == \"poodle\":\n",
    "    print(\"푸들\")\n",
    "    is_yes = True\n",
    "    \n",
    "elif puppy == \"shitzu\":\n",
    "    print(\"시츄\")\n",
    "    is_yes = True\n",
    "    \n",
    "else:\n",
    "    print(\"이건 말티푸야\")\n",
    "    is_yes = True\n",
    "\n",
    "print(is_yes)"
   ]
  },
  {
   "cell_type": "code",
   "execution_count": 5,
   "id": "ef46eabd-1398-46a9-95ae-d829d59c9178",
   "metadata": {},
   "outputs": [
    {
     "name": "stdout",
     "output_type": "stream",
     "text": [
      "Eror\n",
      "continue\n"
     ]
    }
   ],
   "source": [
    "x = 1\n",
    "\n",
    "try:\n",
    "    print(y)\n",
    "    print(x)\n",
    "    \n",
    "except:\n",
    "    print('Eror')\n",
    "    \n",
    "print(\"continue\")"
   ]
  }
 ],
 "metadata": {
  "kernelspec": {
   "display_name": "Python 3 (ipykernel)",
   "language": "python",
   "name": "python3"
  },
  "language_info": {
   "codemirror_mode": {
    "name": "ipython",
    "version": 3
   },
   "file_extension": ".py",
   "mimetype": "text/x-python",
   "name": "python",
   "nbconvert_exporter": "python",
   "pygments_lexer": "ipython3",
   "version": "3.8.8"
  }
 },
 "nbformat": 4,
 "nbformat_minor": 5
}

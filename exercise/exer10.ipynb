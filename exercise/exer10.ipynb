{
 "cells": [
  {
   "cell_type": "code",
   "execution_count": 1,
   "id": "7f59f060-4aa3-4e1d-8355-c422e95a5f9c",
   "metadata": {},
   "outputs": [],
   "source": [
    "import pandas as pd\n"
   ]
  },
  {
   "cell_type": "code",
   "execution_count": 2,
   "id": "ca5285f9-822a-4aa7-87cf-017c82c735f3",
   "metadata": {},
   "outputs": [
    {
     "data": {
      "text/plain": [
       "'1.3.3'"
      ]
     },
     "execution_count": 2,
     "metadata": {},
     "output_type": "execute_result"
    }
   ],
   "source": [
    "pd.__version__\n"
   ]
  },
  {
   "cell_type": "code",
   "execution_count": 3,
   "id": "c6410184-1abb-463d-874f-e3885a2090cf",
   "metadata": {},
   "outputs": [
    {
     "name": "stdout",
     "output_type": "stream",
     "text": [
      "0    0.25\n",
      "1    0.50\n",
      "2    0.75\n",
      "3    1.00\n",
      "dtype: float64\n",
      "(4,)\n",
      "[0.25 0.5  0.75 1.  ]\n",
      "RangeIndex(start=0, stop=4, step=1)\n"
     ]
    }
   ],
   "source": [
    "ser = pd.Series([0.25,0.5,0.75,1.0]) #constructor method : \"객체를 생성하는 매서드\" 때문에 앞에 대문자\n",
    "print(ser)\n",
    "print(ser.shape)\n",
    "\n",
    "print(ser.values)\n",
    "print(ser.index)"
   ]
  },
  {
   "cell_type": "code",
   "execution_count": 4,
   "id": "e9d25ebf-c85d-458d-a1a5-0b2a3f5db50f",
   "metadata": {},
   "outputs": [
    {
     "name": "stdout",
     "output_type": "stream",
     "text": [
      "a    0.25\n",
      "b    0.50\n",
      "c    0.75\n",
      "d    1.00\n",
      "dtype: float64\n",
      "0.5\n"
     ]
    }
   ],
   "source": [
    "ser = pd.Series([0.25,0.5,0.75,1.0], index = ['a','b','c','d'])\n",
    "print(ser)\n",
    "\n",
    "print(ser['b'])"
   ]
  },
  {
   "cell_type": "code",
   "execution_count": 5,
   "id": "fbf6875f-2e48-46c9-88f9-a66d98875685",
   "metadata": {},
   "outputs": [
    {
     "name": "stdout",
     "output_type": "stream",
     "text": [
      "{'a': 1, 2: 'two', 'third': True}\n",
      "True\n"
     ]
    }
   ],
   "source": [
    "dict = {'a': 1, 2: 'two', 'third': True} #dict{key1: value1 ...}\n",
    "print(dict)\n",
    "print(dict['third'])\n"
   ]
  },
  {
   "cell_type": "code",
   "execution_count": 6,
   "id": "454c7bd2-cb24-4817-9536-e27eca0addc4",
   "metadata": {},
   "outputs": [
    {
     "name": "stdout",
     "output_type": "stream",
     "text": [
      "{'California': 38332521, 'Texas': 26448193, 'New York': 19651127, 'Florida': 19552860, 'Illinois': 12882135}\n",
      "California    38332521\n",
      "Texas         26448193\n",
      "New York      19651127\n",
      "Florida       19552860\n",
      "Illinois      12882135\n",
      "dtype: int64\n"
     ]
    }
   ],
   "source": [
    "population_dict = {'California': 38332521,\n",
    "'Texas': 26448193,\n",
    "\"New York\": 19651127,\n",
    "'Florida': 19552860,\n",
    "'Illinois': 12882135}\n",
    "\n",
    "print(population_dict)\n",
    "\n",
    "population = pd.Series(population_dict)\n",
    "print(population)\n"
   ]
  },
  {
   "cell_type": "code",
   "execution_count": 7,
   "id": "ebe36f17-0071-42a8-877b-d7b9174ecd99",
   "metadata": {},
   "outputs": [
    {
     "name": "stdout",
     "output_type": "stream",
     "text": [
      "California    423967\n",
      "Texas         695662\n",
      "New York      141297\n",
      "Florida       170312\n",
      "Illinois      149995\n",
      "dtype: int64\n"
     ]
    }
   ],
   "source": [
    "area_dict = {'California': 423967,'Texas': 695662, 'New York': 141297,\n",
    "'Florida': 170312, 'Illinois': 149995}\n",
    "\n",
    "area = pd.Series(area_dict)\n",
    "print(area)\n"
   ]
  },
  {
   "cell_type": "code",
   "execution_count": 8,
   "id": "84457b5d-1952-48b0-b444-3d71855f02fa",
   "metadata": {},
   "outputs": [
    {
     "name": "stdout",
     "output_type": "stream",
     "text": [
      "            population    area\n",
      "California    38332521  423967\n",
      "Texas         26448193  695662\n",
      "New York      19651127  141297\n",
      "Florida       19552860  170312\n",
      "Illinois      12882135  149995\n",
      "Index(['California', 'Texas', 'New York', 'Florida', 'Illinois'], dtype='object')\n",
      "Index(['population', 'area'], dtype='object')\n"
     ]
    }
   ],
   "source": [
    "df = pd.DataFrame({'population':population, 'area':area})\n",
    "print(df)\n",
    "\n",
    "print(df.index)\n",
    "print(df.columns)\n",
    "\n",
    "df['area']\n",
    "\n",
    "import numpy as np\n"
   ]
  },
  {
   "cell_type": "code",
   "execution_count": 9,
   "id": "fc4245eb-6313-45b2-8bf9-bb7247b10476",
   "metadata": {},
   "outputs": [
    {
     "name": "stdout",
     "output_type": "stream",
     "text": [
      "[[0.10150667 0.07848794]\n",
      " [0.83138692 0.99497566]\n",
      " [0.82856444 0.77214656]] \n",
      "\n",
      "                 foo       bar\n",
      "2021-10-13  0.101507  0.078488\n",
      "2021-10-14  0.831387  0.994976\n",
      "2021-10-15  0.828564  0.772147\n"
     ]
    }
   ],
   "source": [
    "arr = np.random.rand(3,2)\n",
    "print(arr,'\\n')\n",
    "\n",
    "dff = pd.DataFrame(arr,columns = ['foo','bar'],index = ['2021-10-13','2021-10-14','2021-10-15'])\n",
    "print(dff)"
   ]
  },
  {
   "cell_type": "code",
   "execution_count": 10,
   "id": "37b50d80-e0b2-4a7b-80cf-261d3cc5a23d",
   "metadata": {},
   "outputs": [
    {
     "name": "stdout",
     "output_type": "stream",
     "text": [
      "            population    area\n",
      "California    38332521  423967\n",
      "Texas         26448193  695662\n",
      "New York      19651127  141297\n",
      "Florida       19552860  170312\n",
      "Illinois      12882135  149995\n",
      "            population    area     density\n",
      "California    38332521  423967   90.413926\n",
      "Texas         26448193  695662   38.018740\n",
      "New York      19651127  141297  139.076746\n",
      "Florida       19552860  170312  114.806121\n",
      "Illinois      12882135  149995   85.883763\n"
     ]
    }
   ],
   "source": [
    "print(df)\n",
    "\n",
    "df['density'] = df['population']/ df['area']\n",
    "print(df)"
   ]
  },
  {
   "cell_type": "code",
   "execution_count": 11,
   "id": "fb8f979a-0263-41de-acce-15b3820aa6c7",
   "metadata": {},
   "outputs": [
    {
     "name": "stdout",
     "output_type": "stream",
     "text": [
      "population    1.965113e+07\n",
      "area          1.412970e+05\n",
      "density       1.390767e+02\n",
      "Name: New York, dtype: float64\n"
     ]
    }
   ],
   "source": [
    "print(df.loc['New York'])"
   ]
  },
  {
   "cell_type": "code",
   "execution_count": 12,
   "id": "fe92ecc5-4fc9-40b5-ae9d-6d55bf3d8fe0",
   "metadata": {},
   "outputs": [
    {
     "name": "stdout",
     "output_type": "stream",
     "text": [
      "[[3.83325210e+07 4.23967000e+05 9.04139261e+01]\n",
      " [2.64481930e+07 6.95662000e+05 3.80187404e+01]\n",
      " [1.96511270e+07 1.41297000e+05 1.39076746e+02]\n",
      " [1.95528600e+07 1.70312000e+05 1.14806121e+02]\n",
      " [1.28821350e+07 1.49995000e+05 8.58837628e+01]] \n",
      "\n",
      "              California         Texas      New York       Florida  \\\n",
      "population  3.833252e+07  2.644819e+07  1.965113e+07  1.955286e+07   \n",
      "area        4.239670e+05  6.956620e+05  1.412970e+05  1.703120e+05   \n",
      "density     9.041393e+01  3.801874e+01  1.390767e+02  1.148061e+02   \n",
      "\n",
      "                Illinois  \n",
      "population  1.288214e+07  \n",
      "area        1.499950e+05  \n",
      "density     8.588376e+01   \n",
      "\n",
      "            population    area\n",
      "California    38332521  423967\n",
      "Texas         26448193  695662\n",
      "New York      19651127  141297 \n",
      "\n"
     ]
    }
   ],
   "source": [
    "print(df.values,'\\n')\n",
    "print(df.T, '\\n')\n",
    "\n",
    "print(df.iloc[:3,:2],'\\n')"
   ]
  }
 ],
 "metadata": {
  "kernelspec": {
   "display_name": "Python 3 (ipykernel)",
   "language": "python",
   "name": "python3"
  },
  "language_info": {
   "codemirror_mode": {
    "name": "ipython",
    "version": 3
   },
   "file_extension": ".py",
   "mimetype": "text/x-python",
   "name": "python",
   "nbconvert_exporter": "python",
   "pygments_lexer": "ipython3",
   "version": "3.8.8"
  }
 },
 "nbformat": 4,
 "nbformat_minor": 5
}
